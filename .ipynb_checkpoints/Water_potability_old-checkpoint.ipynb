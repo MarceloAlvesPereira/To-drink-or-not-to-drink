{
 "cells": [
  {
   "cell_type": "markdown",
   "metadata": {},
   "source": [
    "# Contents<a id='1.1_Contents'></a>\n",
    "* [1. Data Wrangling](#1_Data_wrangling)\n",
    "* [2. Exploraratory Data Analysis](#2_Exploratory_Data_Analysis)"
   ]
  },
  {
   "cell_type": "markdown",
   "metadata": {},
   "source": [
    "# 1. Data wrangling<a id='2_Data_wrangling'></a>"
   ]
  },
  {
   "cell_type": "markdown",
   "metadata": {},
   "source": [
    "## Contents<a id='1.1_Contents'></a>\n",
    "* [1.1 Introduction](#1_Introduction)\n",
    "* [1.2 Imports](#1.1_Imports)\n",
    "* [1.3 Objectives](#1.2_Objectives)\n",
    "* [1.4 Load Data](#1.3_Load_Data)\n",
    "* [1.5 Explore Data](#1.4_Explore_Data)\n",
    "* [1.5.1 Number Of Missing Values By Column](#1.4.1_Number_Of_Missing_Values_By_Column)\n",
    "* [1.5.2 Numeric Features](#1.4.2_Numeric_Features)\n",
    "  * [1.5.2.1 Numeric data summary](#1.4.2.1_Numeric_data_summary)\n",
    "  * [1.5.2.2 Distributions Of Feature Values](#1.4.2.2_Distributions_Of_Feature_Values)\n",
    "    * [1.5.2.2.1 Solids](#1.4.2.2.1_Solids)\n",
    "* [1.6 Derive State-wide Summary Statistics](#1.5_Derive_State-wide_Summary_Statistics)\n",
    "* [1.7 Save Data](#1.6_Save_Data)"
   ]
  },
  {
   "cell_type": "markdown",
   "metadata": {},
   "source": [
    "## 1.1 Introduction<a id='1_Introduction'></a>"
   ]
  },
  {
   "cell_type": "markdown",
   "metadata": {},
   "source": [
    "This step focuses on collecting your data, organizing it, and making sure it's well defined."
   ]
  },
  {
   "cell_type": "markdown",
   "metadata": {},
   "source": [
    "### Water Quality\n",
    "\n",
    "https://www.kaggle.com/adityakadiwal/water-potability/activity\n",
    "\n",
    "Context\n",
    "Access to safe drinking-water is essential to health, a basic human right and a component of effective policy for health protection. This is important as a health and development issue at a national, regional and local level. In some regions, it has been shown that investments in water supply and sanitation can yield a net economic benefit, since the reductions in adverse health effects and health care costs outweigh the costs of undertaking the interventions.\n",
    "\n",
    "Content\n",
    "The water_potability.csv file contains water quality metrics for 3276 different water bodies.\n",
    "\n",
    "**1. pH value:**\n",
    "PH is an important parameter in evaluating the acid–base balance of water. It is also the indicator of acidic or alkaline condition of water status. WHO has recommended maximum permissible limit of pH from 6.5 to 8.5. The current investigation ranges were 6.52–6.83 which are in the range of WHO standards.\n",
    "\n",
    "**2. Hardness:**\n",
    "Hardness is mainly caused by calcium and magnesium salts. These salts are dissolved from geologic deposits through which water travels. The length of time water is in contact with hardness producing material helps determine how much hardness there is in raw water. Hardness was originally defined as the capacity of water to precipitate soap caused by Calcium and Magnesium.\n",
    "\n",
    "**3. Solids (Total dissolved solids - TDS):**\n",
    "Water has the ability to dissolve a wide range of inorganic and some organic minerals or salts such as potassium, calcium, sodium, bicarbonates, chlorides, magnesium, sulfates etc. These minerals produced un-wanted taste and diluted color in appearance of water. This is the important parameter for the use of water. The water with high TDS value indicates that water is highly mineralized. Desirable limit for TDS is 500 mg/l and maximum limit is 1000 mg/l which prescribed for drinking purpose.\n",
    "\n",
    "**4. Chloramines:**\n",
    "Chlorine and chloramine are the major disinfectants used in public water systems. Chloramines are most commonly formed when ammonia is added to chlorine to treat drinking water. Chlorine levels up to 4 milligrams per liter (mg/L or 4 parts per million (ppm)) are considered safe in drinking water.\n",
    "\n",
    "**5. Sulfate:**\n",
    "Sulfates are naturally occurring substances that are found in minerals, soil, and rocks. They are present in ambient air, groundwater, plants, and food. The principal commercial use of sulfate is in the chemical industry. Sulfate concentration in seawater is about 2,700 milligrams per liter (mg/L). It ranges from 3 to 30 mg/L in most freshwater supplies, although much higher concentrations (1000 mg/L) are found in some geographic locations.\n",
    "\n",
    "**6. Conductivity:**\n",
    "Pure water is not a good conductor of electric current rather’s a good insulator. Increase in ions concentration enhances the electrical conductivity of water. Generally, the amount of dissolved solids in water determines the electrical conductivity. Electrical conductivity (EC) actually measures the ionic process of a solution that enables it to transmit current. According to WHO standards, EC value should not exceeded 400 μS/cm.\n",
    "\n",
    "**7. Organic_carbon:**\n",
    "Total Organic Carbon (TOC) in source waters comes from decaying natural organic matter (NOM) as well as synthetic sources. TOC is a measure of the total amount of carbon in organic compounds in pure water. According to US EPA < 2 mg/L as TOC in treated / drinking water, and < 4 mg/Lit in source water which is use for treatment.\n",
    "\n",
    "**8. Trihalomethanes:**\n",
    "THMs are chemicals which may be found in water treated with chlorine. The concentration of THMs in drinking water varies according to the level of organic material in the water, the amount of chlorine required to treat the water, and the temperature of the water that is being treated. THM levels up to 80 ppm is considered safe in drinking water.\n",
    "\n",
    "**9. Turbidity:**\n",
    "The turbidity of water depends on the quantity of solid matter present in the suspended state. It is a measure of light emitting properties of water and the test is used to indicate the quality of waste discharge with respect to colloidal matter. The mean turbidity value obtained for Wondo Genet Campus (0.98 NTU) is lower than the WHO recommended value of 5.00 NTU.\n",
    "\n",
    "**10. Potability:**\n",
    "Indicates if water is safe for human consumption where 1 means Potable and 0 means Not potable."
   ]
  },
  {
   "cell_type": "markdown",
   "metadata": {},
   "source": [
    "## 1.2 Imports<a id='1.1_Imports'></a>"
   ]
  },
  {
   "cell_type": "code",
   "execution_count": 1,
   "metadata": {},
   "outputs": [],
   "source": [
    "# Default libraries: pandas, numpy\n",
    "import pandas as pd\n",
    "import numpy as np\n",
    "\n",
    "import math\n",
    "import seaborn as sns\n",
    "# import urbangrammar_graphics as ugg\n",
    "import os\n",
    "import pickle\n",
    "import datetime\n",
    "\n",
    "# Load collections of functions\n",
    "import matplotlib.pyplot as plt\n",
    "# from matplotlib import pyplot as plt\n",
    "from collections import Counter\n",
    "from datetime import datetime\n",
    "from clustergram import Clustergram\n",
    "\n",
    "from sklearn import __version__ as sklearn_version\n",
    "from sklearn.decomposition import PCA\n",
    "from sklearn.dummy import DummyRegressor\n",
    "from sklearn.ensemble import RandomForestClassifier, RandomForestRegressor, AdaBoostClassifier, BaggingClassifier\n",
    "from sklearn.feature_selection import SelectKBest, f_regression\n",
    "from sklearn.impute import SimpleImputer\n",
    "from sklearn.linear_model import LinearRegression, LogisticRegression\n",
    "from sklearn.metrics import r2_score, mean_squared_error, mean_absolute_error, accuracy_score, classification_report\n",
    "from sklearn.model_selection import train_test_split, cross_validate, learning_curve, GridSearchCV, RandomizedSearchCV, GridSearchCV\n",
    "from sklearn.neighbors import KNeighborsClassifier\n",
    "from sklearn.pipeline import make_pipeline\n",
    "from sklearn.preprocessing import scale, StandardScaler, MinMaxScaler\n",
    "from sklearn.tree import DecisionTreeClassifier\n",
    "\n",
    "from xgboost import XGBClassifier\n",
    "\n",
    "\n",
    "import sys\n",
    "\n",
    "# # insert the \"import_test\" directory into the sys.path\n",
    "# sys.path\n",
    "# sys.path.insert(1, os.path.abspath(\"..\"))\n",
    "\n",
    "# from lib.multiply import multiplier\n",
    "# from library.sb_utils import save_file"
   ]
  },
  {
   "cell_type": "markdown",
   "metadata": {},
   "source": [
    "## 1.3 Objectives<a id='1.2_Objectives'></a>"
   ]
  },
  {
   "cell_type": "markdown",
   "metadata": {},
   "source": [
    "- Check if the data seems okay for the questions to be answered:\n",
    "    - Define the target variable.\n",
    "    - Useful features.\n",
    "- Fundamental issues with the data?"
   ]
  },
  {
   "cell_type": "markdown",
   "metadata": {},
   "source": [
    "## 1.4 Load Data<a id='1.3_Load_Data'></a>"
   ]
  },
  {
   "cell_type": "code",
   "execution_count": 2,
   "metadata": {},
   "outputs": [],
   "source": [
    "path = os.getcwd() + '\\\\Water_potability\\\\'\n",
    "\n",
    "water = pd.read_csv(path + 'water_potability.csv',index_col= None,delimiter=',')\n",
    "# credit_record = pd.read_csv(path + 'credit_record.csv',index_col= None,delimiter=',')\n",
    "# type(raw_data)"
   ]
  },
  {
   "cell_type": "code",
   "execution_count": 3,
   "metadata": {},
   "outputs": [
    {
     "name": "stdout",
     "output_type": "stream",
     "text": [
      "<class 'pandas.core.frame.DataFrame'>\n",
      "RangeIndex: 3276 entries, 0 to 3275\n",
      "Data columns (total 10 columns):\n",
      " #   Column           Non-Null Count  Dtype  \n",
      "---  ------           --------------  -----  \n",
      " 0   ph               2785 non-null   float64\n",
      " 1   Hardness         3276 non-null   float64\n",
      " 2   Solids           3276 non-null   float64\n",
      " 3   Chloramines      3276 non-null   float64\n",
      " 4   Sulfate          2495 non-null   float64\n",
      " 5   Conductivity     3276 non-null   float64\n",
      " 6   Organic_carbon   3276 non-null   float64\n",
      " 7   Trihalomethanes  3114 non-null   float64\n",
      " 8   Turbidity        3276 non-null   float64\n",
      " 9   Potability       3276 non-null   int64  \n",
      "dtypes: float64(9), int64(1)\n",
      "memory usage: 256.1 KB\n"
     ]
    }
   ],
   "source": [
    "#Code task 2#\n",
    "#Call the info method on ski_data to see a summary of the data\n",
    "water.info()"
   ]
  },
  {
   "cell_type": "markdown",
   "metadata": {},
   "source": [
    "`Potability` indicates if water is safe for human consumption. 1 means Potable and 0 means Not Potable. The other columns are features explained above.\n",
    "- Numerical features: float64(9), int64(1)\n",
    "- Categorical: none"
   ]
  },
  {
   "cell_type": "code",
   "execution_count": 4,
   "metadata": {
    "scrolled": true
   },
   "outputs": [
    {
     "data": {
      "text/html": [
       "<div>\n",
       "<style scoped>\n",
       "    .dataframe tbody tr th:only-of-type {\n",
       "        vertical-align: middle;\n",
       "    }\n",
       "\n",
       "    .dataframe tbody tr th {\n",
       "        vertical-align: top;\n",
       "    }\n",
       "\n",
       "    .dataframe thead th {\n",
       "        text-align: right;\n",
       "    }\n",
       "</style>\n",
       "<table border=\"1\" class=\"dataframe\">\n",
       "  <thead>\n",
       "    <tr style=\"text-align: right;\">\n",
       "      <th></th>\n",
       "      <th>ph</th>\n",
       "      <th>Hardness</th>\n",
       "      <th>Solids</th>\n",
       "      <th>Chloramines</th>\n",
       "      <th>Sulfate</th>\n",
       "      <th>Conductivity</th>\n",
       "      <th>Organic_carbon</th>\n",
       "      <th>Trihalomethanes</th>\n",
       "      <th>Turbidity</th>\n",
       "      <th>Potability</th>\n",
       "    </tr>\n",
       "  </thead>\n",
       "  <tbody>\n",
       "    <tr>\n",
       "      <th>0</th>\n",
       "      <td>NaN</td>\n",
       "      <td>204.890455</td>\n",
       "      <td>20791.318981</td>\n",
       "      <td>7.300212</td>\n",
       "      <td>368.516441</td>\n",
       "      <td>564.308654</td>\n",
       "      <td>10.379783</td>\n",
       "      <td>86.990970</td>\n",
       "      <td>2.963135</td>\n",
       "      <td>0</td>\n",
       "    </tr>\n",
       "    <tr>\n",
       "      <th>1</th>\n",
       "      <td>3.716080</td>\n",
       "      <td>129.422921</td>\n",
       "      <td>18630.057858</td>\n",
       "      <td>6.635246</td>\n",
       "      <td>NaN</td>\n",
       "      <td>592.885359</td>\n",
       "      <td>15.180013</td>\n",
       "      <td>56.329076</td>\n",
       "      <td>4.500656</td>\n",
       "      <td>0</td>\n",
       "    </tr>\n",
       "    <tr>\n",
       "      <th>2</th>\n",
       "      <td>8.099124</td>\n",
       "      <td>224.236259</td>\n",
       "      <td>19909.541732</td>\n",
       "      <td>9.275884</td>\n",
       "      <td>NaN</td>\n",
       "      <td>418.606213</td>\n",
       "      <td>16.868637</td>\n",
       "      <td>66.420093</td>\n",
       "      <td>3.055934</td>\n",
       "      <td>0</td>\n",
       "    </tr>\n",
       "    <tr>\n",
       "      <th>3</th>\n",
       "      <td>8.316766</td>\n",
       "      <td>214.373394</td>\n",
       "      <td>22018.417441</td>\n",
       "      <td>8.059332</td>\n",
       "      <td>356.886136</td>\n",
       "      <td>363.266516</td>\n",
       "      <td>18.436524</td>\n",
       "      <td>100.341674</td>\n",
       "      <td>4.628771</td>\n",
       "      <td>0</td>\n",
       "    </tr>\n",
       "    <tr>\n",
       "      <th>4</th>\n",
       "      <td>9.092223</td>\n",
       "      <td>181.101509</td>\n",
       "      <td>17978.986339</td>\n",
       "      <td>6.546600</td>\n",
       "      <td>310.135738</td>\n",
       "      <td>398.410813</td>\n",
       "      <td>11.558279</td>\n",
       "      <td>31.997993</td>\n",
       "      <td>4.075075</td>\n",
       "      <td>0</td>\n",
       "    </tr>\n",
       "  </tbody>\n",
       "</table>\n",
       "</div>"
      ],
      "text/plain": [
       "         ph    Hardness        Solids  Chloramines     Sulfate  Conductivity  \\\n",
       "0       NaN  204.890455  20791.318981     7.300212  368.516441    564.308654   \n",
       "1  3.716080  129.422921  18630.057858     6.635246         NaN    592.885359   \n",
       "2  8.099124  224.236259  19909.541732     9.275884         NaN    418.606213   \n",
       "3  8.316766  214.373394  22018.417441     8.059332  356.886136    363.266516   \n",
       "4  9.092223  181.101509  17978.986339     6.546600  310.135738    398.410813   \n",
       "\n",
       "   Organic_carbon  Trihalomethanes  Turbidity  Potability  \n",
       "0       10.379783        86.990970   2.963135           0  \n",
       "1       15.180013        56.329076   4.500656           0  \n",
       "2       16.868637        66.420093   3.055934           0  \n",
       "3       18.436524       100.341674   4.628771           0  \n",
       "4       11.558279        31.997993   4.075075           0  "
      ]
     },
     "execution_count": 4,
     "metadata": {},
     "output_type": "execute_result"
    }
   ],
   "source": [
    "water.head()"
   ]
  },
  {
   "cell_type": "markdown",
   "metadata": {},
   "source": [
    "- Headers: related to the problem.\n",
    "- Missing values: present - further investigation required."
   ]
  },
  {
   "cell_type": "markdown",
   "metadata": {},
   "source": [
    "## 1.5 Explore Data<a id='1.4_Explore_Data'></a>"
   ]
  },
  {
   "cell_type": "markdown",
   "metadata": {},
   "source": [
    "### 1.5.1 Number Of Missing Values By Column<a id='1.4.1_Number_Of_Missing_Values_By_Column'></a>"
   ]
  },
  {
   "cell_type": "markdown",
   "metadata": {},
   "source": [
    "Count the number of missing values in each column and sort them."
   ]
  },
  {
   "cell_type": "code",
   "execution_count": 5,
   "metadata": {},
   "outputs": [
    {
     "data": {
      "text/html": [
       "<div>\n",
       "<style scoped>\n",
       "    .dataframe tbody tr th:only-of-type {\n",
       "        vertical-align: middle;\n",
       "    }\n",
       "\n",
       "    .dataframe tbody tr th {\n",
       "        vertical-align: top;\n",
       "    }\n",
       "\n",
       "    .dataframe thead th {\n",
       "        text-align: right;\n",
       "    }\n",
       "</style>\n",
       "<table border=\"1\" class=\"dataframe\">\n",
       "  <thead>\n",
       "    <tr style=\"text-align: right;\">\n",
       "      <th></th>\n",
       "      <th>count</th>\n",
       "      <th>%</th>\n",
       "    </tr>\n",
       "  </thead>\n",
       "  <tbody>\n",
       "    <tr>\n",
       "      <th>Sulfate</th>\n",
       "      <td>781</td>\n",
       "      <td>23.840049</td>\n",
       "    </tr>\n",
       "    <tr>\n",
       "      <th>ph</th>\n",
       "      <td>491</td>\n",
       "      <td>14.987790</td>\n",
       "    </tr>\n",
       "    <tr>\n",
       "      <th>Trihalomethanes</th>\n",
       "      <td>162</td>\n",
       "      <td>4.945055</td>\n",
       "    </tr>\n",
       "  </tbody>\n",
       "</table>\n",
       "</div>"
      ],
      "text/plain": [
       "                 count          %\n",
       "Sulfate            781  23.840049\n",
       "ph                 491  14.987790\n",
       "Trihalomethanes    162   4.945055"
      ]
     },
     "execution_count": 5,
     "metadata": {},
     "output_type": "execute_result"
    }
   ],
   "source": [
    "#Count (using `.sum()`) the number of missing values (`.isnull()`) in each column of data\n",
    "#as well as the percentages (using `.mean()` instead of `.sum()`).\n",
    "#Order them (increasing or decreasing) using sort_values\n",
    "missing = pd.concat([water.isnull().sum(), 100 * water.isnull().mean()], axis=1)\n",
    "missing.columns=['count','%']\n",
    "missing = missing[missing['count'] > 0]\n",
    "missing.sort_values(by='%',ascending=False)"
   ]
  },
  {
   "cell_type": "markdown",
   "metadata": {},
   "source": [
    "- Showing only column with missing values\n",
    "- Columns with missing data: 3\n",
    "- Most missing `Sufalte`: 23%\n",
    "- Target missing: none\n",
    "- Notes:\n",
    "    - Check for non genunine values (-1, 999)\n",
    "    - Check for irrational values\n",
    "    - Check outliers"
   ]
  },
  {
   "cell_type": "markdown",
   "metadata": {},
   "source": [
    "### 1.5.2 Numeric Features<a id='1.4.2_Numeric_Features'></a>"
   ]
  },
  {
   "cell_type": "markdown",
   "metadata": {},
   "source": [
    "Having decided to reserve judgement on how exactly you utilize the State, turn your attention to cleaning the numeric features."
   ]
  },
  {
   "cell_type": "markdown",
   "metadata": {},
   "source": [
    "#### 1.5.2.1 Numeric data summary<a id='1.4.2.1_Numeric_data_summary'></a>"
   ]
  },
  {
   "cell_type": "code",
   "execution_count": 6,
   "metadata": {},
   "outputs": [
    {
     "data": {
      "text/html": [
       "<div>\n",
       "<style scoped>\n",
       "    .dataframe tbody tr th:only-of-type {\n",
       "        vertical-align: middle;\n",
       "    }\n",
       "\n",
       "    .dataframe tbody tr th {\n",
       "        vertical-align: top;\n",
       "    }\n",
       "\n",
       "    .dataframe thead th {\n",
       "        text-align: right;\n",
       "    }\n",
       "</style>\n",
       "<table border=\"1\" class=\"dataframe\">\n",
       "  <thead>\n",
       "    <tr style=\"text-align: right;\">\n",
       "      <th></th>\n",
       "      <th>count</th>\n",
       "      <th>mean</th>\n",
       "      <th>std</th>\n",
       "      <th>min</th>\n",
       "      <th>25%</th>\n",
       "      <th>50%</th>\n",
       "      <th>75%</th>\n",
       "      <th>max</th>\n",
       "    </tr>\n",
       "  </thead>\n",
       "  <tbody>\n",
       "    <tr>\n",
       "      <th>ph</th>\n",
       "      <td>2785.0</td>\n",
       "      <td>7.080795</td>\n",
       "      <td>1.594320</td>\n",
       "      <td>0.000000</td>\n",
       "      <td>6.093092</td>\n",
       "      <td>7.036752</td>\n",
       "      <td>8.062066</td>\n",
       "      <td>14.000000</td>\n",
       "    </tr>\n",
       "    <tr>\n",
       "      <th>Hardness</th>\n",
       "      <td>3276.0</td>\n",
       "      <td>196.369496</td>\n",
       "      <td>32.879761</td>\n",
       "      <td>47.432000</td>\n",
       "      <td>176.850538</td>\n",
       "      <td>196.967627</td>\n",
       "      <td>216.667456</td>\n",
       "      <td>323.124000</td>\n",
       "    </tr>\n",
       "    <tr>\n",
       "      <th>Solids</th>\n",
       "      <td>3276.0</td>\n",
       "      <td>22014.092526</td>\n",
       "      <td>8768.570828</td>\n",
       "      <td>320.942611</td>\n",
       "      <td>15666.690297</td>\n",
       "      <td>20927.833607</td>\n",
       "      <td>27332.762127</td>\n",
       "      <td>61227.196008</td>\n",
       "    </tr>\n",
       "    <tr>\n",
       "      <th>Chloramines</th>\n",
       "      <td>3276.0</td>\n",
       "      <td>7.122277</td>\n",
       "      <td>1.583085</td>\n",
       "      <td>0.352000</td>\n",
       "      <td>6.127421</td>\n",
       "      <td>7.130299</td>\n",
       "      <td>8.114887</td>\n",
       "      <td>13.127000</td>\n",
       "    </tr>\n",
       "    <tr>\n",
       "      <th>Sulfate</th>\n",
       "      <td>2495.0</td>\n",
       "      <td>333.775777</td>\n",
       "      <td>41.416840</td>\n",
       "      <td>129.000000</td>\n",
       "      <td>307.699498</td>\n",
       "      <td>333.073546</td>\n",
       "      <td>359.950170</td>\n",
       "      <td>481.030642</td>\n",
       "    </tr>\n",
       "    <tr>\n",
       "      <th>Conductivity</th>\n",
       "      <td>3276.0</td>\n",
       "      <td>426.205111</td>\n",
       "      <td>80.824064</td>\n",
       "      <td>181.483754</td>\n",
       "      <td>365.734414</td>\n",
       "      <td>421.884968</td>\n",
       "      <td>481.792304</td>\n",
       "      <td>753.342620</td>\n",
       "    </tr>\n",
       "    <tr>\n",
       "      <th>Organic_carbon</th>\n",
       "      <td>3276.0</td>\n",
       "      <td>14.284970</td>\n",
       "      <td>3.308162</td>\n",
       "      <td>2.200000</td>\n",
       "      <td>12.065801</td>\n",
       "      <td>14.218338</td>\n",
       "      <td>16.557652</td>\n",
       "      <td>28.300000</td>\n",
       "    </tr>\n",
       "    <tr>\n",
       "      <th>Trihalomethanes</th>\n",
       "      <td>3114.0</td>\n",
       "      <td>66.396293</td>\n",
       "      <td>16.175008</td>\n",
       "      <td>0.738000</td>\n",
       "      <td>55.844536</td>\n",
       "      <td>66.622485</td>\n",
       "      <td>77.337473</td>\n",
       "      <td>124.000000</td>\n",
       "    </tr>\n",
       "    <tr>\n",
       "      <th>Turbidity</th>\n",
       "      <td>3276.0</td>\n",
       "      <td>3.966786</td>\n",
       "      <td>0.780382</td>\n",
       "      <td>1.450000</td>\n",
       "      <td>3.439711</td>\n",
       "      <td>3.955028</td>\n",
       "      <td>4.500320</td>\n",
       "      <td>6.739000</td>\n",
       "    </tr>\n",
       "    <tr>\n",
       "      <th>Potability</th>\n",
       "      <td>3276.0</td>\n",
       "      <td>0.390110</td>\n",
       "      <td>0.487849</td>\n",
       "      <td>0.000000</td>\n",
       "      <td>0.000000</td>\n",
       "      <td>0.000000</td>\n",
       "      <td>1.000000</td>\n",
       "      <td>1.000000</td>\n",
       "    </tr>\n",
       "  </tbody>\n",
       "</table>\n",
       "</div>"
      ],
      "text/plain": [
       "                  count          mean          std         min           25%  \\\n",
       "ph               2785.0      7.080795     1.594320    0.000000      6.093092   \n",
       "Hardness         3276.0    196.369496    32.879761   47.432000    176.850538   \n",
       "Solids           3276.0  22014.092526  8768.570828  320.942611  15666.690297   \n",
       "Chloramines      3276.0      7.122277     1.583085    0.352000      6.127421   \n",
       "Sulfate          2495.0    333.775777    41.416840  129.000000    307.699498   \n",
       "Conductivity     3276.0    426.205111    80.824064  181.483754    365.734414   \n",
       "Organic_carbon   3276.0     14.284970     3.308162    2.200000     12.065801   \n",
       "Trihalomethanes  3114.0     66.396293    16.175008    0.738000     55.844536   \n",
       "Turbidity        3276.0      3.966786     0.780382    1.450000      3.439711   \n",
       "Potability       3276.0      0.390110     0.487849    0.000000      0.000000   \n",
       "\n",
       "                          50%           75%           max  \n",
       "ph                   7.036752      8.062066     14.000000  \n",
       "Hardness           196.967627    216.667456    323.124000  \n",
       "Solids           20927.833607  27332.762127  61227.196008  \n",
       "Chloramines          7.130299      8.114887     13.127000  \n",
       "Sulfate            333.073546    359.950170    481.030642  \n",
       "Conductivity       421.884968    481.792304    753.342620  \n",
       "Organic_carbon      14.218338     16.557652     28.300000  \n",
       "Trihalomethanes     66.622485     77.337473    124.000000  \n",
       "Turbidity            3.955028      4.500320      6.739000  \n",
       "Potability           0.000000      1.000000      1.000000  "
      ]
     },
     "execution_count": 6,
     "metadata": {},
     "output_type": "execute_result"
    }
   ],
   "source": [
    "#Call data's `describe` method for a statistical summary of the numerical columns\n",
    "water.describe().transpose()"
   ]
  },
  {
   "cell_type": "markdown",
   "metadata": {},
   "source": [
    "#### 1.5.2.2 Distributions Of Feature Values<a id='1.4.2.2_Distributions_Of_Feature_Values'></a>"
   ]
  },
  {
   "cell_type": "code",
   "execution_count": 7,
   "metadata": {},
   "outputs": [
    {
     "data": {
      "image/png": "[encoded data removed]",
      "text/plain": [
       "<Figure size 1080x720 with 12 Axes>"
      ]
     },
     "metadata": {
      "needs_background": "light"
     },
     "output_type": "display_data"
    }
   ],
   "source": [
    "#Call data's `hist` method to plot histograms of each of the numeric features\n",
    "water.hist(figsize=(15,10))\n",
    "plt.subplots_adjust(hspace=0.5);\n",
    "#Hint: notice how the terminating ';' \"swallows\" some messy output and leads to a tidier notebook"
   ]
  },
  {
   "cell_type": "markdown",
   "metadata": {},
   "source": [
    "- Plausible or wrong: all features have a distribution similar to the normal\n",
    "- Outliers: maybe solids can have some outliers, but there are no obvious outlieres in general\n",
    "- Constant values: none"
   ]
  },
  {
   "cell_type": "markdown",
   "metadata": {},
   "source": [
    "#### 1.5.2.2.1 Solids<a id='1.4.2.2.1_Solids'></a>"
   ]
  },
  {
   "cell_type": "code",
   "execution_count": 8,
   "metadata": {
    "scrolled": true
   },
   "outputs": [
    {
     "data": {
      "text/plain": [
       "2602    61227.196008\n",
       "1031    56867.859236\n",
       "1554    56488.672413\n",
       "1186    56351.396304\n",
       "3150    56320.586979\n",
       "1068    55334.702799\n",
       "3162    53735.899194\n",
       "366     52318.917298\n",
       "666     52060.226800\n",
       "3226    51731.820553\n",
       "3130    50793.898917\n",
       "1784    50279.262429\n",
       "3190    50166.533323\n",
       "Name: Solids, dtype: float64"
      ]
     },
     "execution_count": 8,
     "metadata": {},
     "output_type": "execute_result"
    }
   ],
   "source": [
    "water.Solids[water.Solids > 50000].sort_values(ascending=False)"
   ]
  },
  {
   "cell_type": "markdown",
   "metadata": {},
   "source": [
    "- The highest values for `Solids` are reasonable"
   ]
  },
  {
   "cell_type": "markdown",
   "metadata": {},
   "source": [
    "## 1.6 Derive Summary Statistics<a id='1.5_Derive_State-wide_Summary_Statistics'></a>"
   ]
  },
  {
   "cell_type": "code",
   "execution_count": 9,
   "metadata": {},
   "outputs": [
    {
     "data": {
      "text/html": [
       "<div>\n",
       "<style scoped>\n",
       "    .dataframe tbody tr th:only-of-type {\n",
       "        vertical-align: middle;\n",
       "    }\n",
       "\n",
       "    .dataframe tbody tr th {\n",
       "        vertical-align: top;\n",
       "    }\n",
       "\n",
       "    .dataframe thead th {\n",
       "        text-align: right;\n",
       "    }\n",
       "</style>\n",
       "<table border=\"1\" class=\"dataframe\">\n",
       "  <thead>\n",
       "    <tr style=\"text-align: right;\">\n",
       "      <th></th>\n",
       "      <th>ph</th>\n",
       "      <th>Hardness</th>\n",
       "      <th>Solids</th>\n",
       "      <th>Chloramines</th>\n",
       "      <th>Sulfate</th>\n",
       "      <th>Conductivity</th>\n",
       "      <th>Organic_carbon</th>\n",
       "      <th>Trihalomethanes</th>\n",
       "      <th>Turbidity</th>\n",
       "    </tr>\n",
       "  </thead>\n",
       "  <tbody>\n",
       "    <tr>\n",
       "      <th>0</th>\n",
       "      <td>0.000000</td>\n",
       "      <td>214.846144</td>\n",
       "      <td>49456.587108</td>\n",
       "      <td>7.897539</td>\n",
       "      <td>0.000000</td>\n",
       "      <td>583.448849</td>\n",
       "      <td>7.702328</td>\n",
       "      <td>77.712891</td>\n",
       "      <td>4.928840</td>\n",
       "    </tr>\n",
       "    <tr>\n",
       "      <th>1</th>\n",
       "      <td>0.227499</td>\n",
       "      <td>152.530111</td>\n",
       "      <td>39028.599340</td>\n",
       "      <td>3.462492</td>\n",
       "      <td>283.693782</td>\n",
       "      <td>443.029232</td>\n",
       "      <td>13.201943</td>\n",
       "      <td>62.322711</td>\n",
       "      <td>3.545741</td>\n",
       "    </tr>\n",
       "    <tr>\n",
       "      <th>2</th>\n",
       "      <td>0.975578</td>\n",
       "      <td>221.204114</td>\n",
       "      <td>31145.110739</td>\n",
       "      <td>7.615583</td>\n",
       "      <td>333.677843</td>\n",
       "      <td>439.112765</td>\n",
       "      <td>21.145954</td>\n",
       "      <td>0.000000</td>\n",
       "      <td>2.533996</td>\n",
       "    </tr>\n",
       "    <tr>\n",
       "      <th>3</th>\n",
       "      <td>0.989912</td>\n",
       "      <td>133.216942</td>\n",
       "      <td>16922.853899</td>\n",
       "      <td>9.293289</td>\n",
       "      <td>444.375731</td>\n",
       "      <td>322.291191</td>\n",
       "      <td>10.430076</td>\n",
       "      <td>43.578466</td>\n",
       "      <td>5.160604</td>\n",
       "    </tr>\n",
       "    <tr>\n",
       "      <th>4</th>\n",
       "      <td>1.431782</td>\n",
       "      <td>228.130383</td>\n",
       "      <td>12937.246891</td>\n",
       "      <td>6.214773</td>\n",
       "      <td>319.734136</td>\n",
       "      <td>495.379883</td>\n",
       "      <td>12.033344</td>\n",
       "      <td>61.141119</td>\n",
       "      <td>4.948443</td>\n",
       "    </tr>\n",
       "  </tbody>\n",
       "</table>\n",
       "</div>"
      ],
      "text/plain": [
       "         ph    Hardness        Solids  Chloramines     Sulfate  Conductivity  \\\n",
       "0  0.000000  214.846144  49456.587108     7.897539    0.000000    583.448849   \n",
       "1  0.227499  152.530111  39028.599340     3.462492  283.693782    443.029232   \n",
       "2  0.975578  221.204114  31145.110739     7.615583  333.677843    439.112765   \n",
       "3  0.989912  133.216942  16922.853899     9.293289  444.375731    322.291191   \n",
       "4  1.431782  228.130383  12937.246891     6.214773  319.734136    495.379883   \n",
       "\n",
       "   Organic_carbon  Trihalomethanes  Turbidity  \n",
       "0        7.702328        77.712891   4.928840  \n",
       "1       13.201943        62.322711   3.545741  \n",
       "2       21.145954         0.000000   2.533996  \n",
       "3       10.430076        43.578466   5.160604  \n",
       "4       12.033344        61.141119   4.948443  "
      ]
     },
     "execution_count": 9,
     "metadata": {},
     "output_type": "execute_result"
    }
   ],
   "source": [
    "#Add named aggregations for the sum of the variables and reset_index()\n",
    "water_summary = water.groupby('ph').agg(\n",
    "#     count=pd.NamedAgg(column='Hardness', aggfunc='size'), #could pick any column here\n",
    "    Hardness=pd.NamedAgg(column='Hardness', aggfunc='sum'),\n",
    "    Solids=pd.NamedAgg(column='Solids', aggfunc='sum'),\n",
    "    Chloramines=pd.NamedAgg(column='Chloramines', aggfunc='sum'),\n",
    "    Sulfate=pd.NamedAgg(column='Sulfate', aggfunc='sum'),\n",
    "    Conductivity=pd.NamedAgg(column='Conductivity', aggfunc='sum'),\n",
    "    Organic_carbon=pd.NamedAgg(column='Organic_carbon', aggfunc='sum'),\n",
    "    Trihalomethanes=pd.NamedAgg(column='Trihalomethanes', aggfunc='sum'),\n",
    "    Turbidity=pd.NamedAgg(column='Turbidity', aggfunc='sum'),\n",
    "# Potability=pd.NamedAgg(column='Potability', aggfunc='sum'),\n",
    ").reset_index()\n",
    "water_summary.head()"
   ]
  },
  {
   "cell_type": "code",
   "execution_count": 10,
   "metadata": {},
   "outputs": [
    {
     "data": {
      "text/html": [
       "<div>\n",
       "<style scoped>\n",
       "    .dataframe tbody tr th:only-of-type {\n",
       "        vertical-align: middle;\n",
       "    }\n",
       "\n",
       "    .dataframe tbody tr th {\n",
       "        vertical-align: top;\n",
       "    }\n",
       "\n",
       "    .dataframe thead th {\n",
       "        text-align: right;\n",
       "    }\n",
       "</style>\n",
       "<table border=\"1\" class=\"dataframe\">\n",
       "  <thead>\n",
       "    <tr style=\"text-align: right;\">\n",
       "      <th></th>\n",
       "      <th>ph</th>\n",
       "      <th>Hardness</th>\n",
       "      <th>Solids</th>\n",
       "      <th>Chloramines</th>\n",
       "      <th>Sulfate</th>\n",
       "      <th>Conductivity</th>\n",
       "      <th>Organic_carbon</th>\n",
       "      <th>Trihalomethanes</th>\n",
       "      <th>Turbidity</th>\n",
       "      <th>Potability</th>\n",
       "    </tr>\n",
       "  </thead>\n",
       "  <tbody>\n",
       "    <tr>\n",
       "      <th>0</th>\n",
       "      <td>0.000000</td>\n",
       "      <td>214.846144</td>\n",
       "      <td>49456.587108</td>\n",
       "      <td>7.897539</td>\n",
       "      <td>0.000000</td>\n",
       "      <td>583.448849</td>\n",
       "      <td>7.702328</td>\n",
       "      <td>77.712891</td>\n",
       "      <td>4.928840</td>\n",
       "      <td>0</td>\n",
       "    </tr>\n",
       "    <tr>\n",
       "      <th>1</th>\n",
       "      <td>0.227499</td>\n",
       "      <td>152.530111</td>\n",
       "      <td>39028.599340</td>\n",
       "      <td>3.462492</td>\n",
       "      <td>283.693782</td>\n",
       "      <td>443.029232</td>\n",
       "      <td>13.201943</td>\n",
       "      <td>62.322711</td>\n",
       "      <td>3.545741</td>\n",
       "      <td>1</td>\n",
       "    </tr>\n",
       "    <tr>\n",
       "      <th>2</th>\n",
       "      <td>0.975578</td>\n",
       "      <td>221.204114</td>\n",
       "      <td>31145.110739</td>\n",
       "      <td>7.615583</td>\n",
       "      <td>333.677843</td>\n",
       "      <td>439.112765</td>\n",
       "      <td>21.145954</td>\n",
       "      <td>0.000000</td>\n",
       "      <td>2.533996</td>\n",
       "      <td>0</td>\n",
       "    </tr>\n",
       "    <tr>\n",
       "      <th>3</th>\n",
       "      <td>0.989912</td>\n",
       "      <td>133.216942</td>\n",
       "      <td>16922.853899</td>\n",
       "      <td>9.293289</td>\n",
       "      <td>444.375731</td>\n",
       "      <td>322.291191</td>\n",
       "      <td>10.430076</td>\n",
       "      <td>43.578466</td>\n",
       "      <td>5.160604</td>\n",
       "      <td>1</td>\n",
       "    </tr>\n",
       "    <tr>\n",
       "      <th>4</th>\n",
       "      <td>1.431782</td>\n",
       "      <td>228.130383</td>\n",
       "      <td>12937.246891</td>\n",
       "      <td>6.214773</td>\n",
       "      <td>319.734136</td>\n",
       "      <td>495.379883</td>\n",
       "      <td>12.033344</td>\n",
       "      <td>61.141119</td>\n",
       "      <td>4.948443</td>\n",
       "      <td>0</td>\n",
       "    </tr>\n",
       "    <tr>\n",
       "      <th>...</th>\n",
       "      <td>...</td>\n",
       "      <td>...</td>\n",
       "      <td>...</td>\n",
       "      <td>...</td>\n",
       "      <td>...</td>\n",
       "      <td>...</td>\n",
       "      <td>...</td>\n",
       "      <td>...</td>\n",
       "      <td>...</td>\n",
       "      <td>...</td>\n",
       "    </tr>\n",
       "    <tr>\n",
       "      <th>2780</th>\n",
       "      <td>12.246928</td>\n",
       "      <td>217.368014</td>\n",
       "      <td>11318.140563</td>\n",
       "      <td>8.465160</td>\n",
       "      <td>375.894758</td>\n",
       "      <td>347.653054</td>\n",
       "      <td>9.762505</td>\n",
       "      <td>73.832405</td>\n",
       "      <td>3.533243</td>\n",
       "      <td>0</td>\n",
       "    </tr>\n",
       "    <tr>\n",
       "      <th>2781</th>\n",
       "      <td>13.175402</td>\n",
       "      <td>47.432000</td>\n",
       "      <td>19237.949676</td>\n",
       "      <td>8.907020</td>\n",
       "      <td>375.147315</td>\n",
       "      <td>500.245952</td>\n",
       "      <td>12.083896</td>\n",
       "      <td>0.000000</td>\n",
       "      <td>4.106924</td>\n",
       "      <td>1</td>\n",
       "    </tr>\n",
       "    <tr>\n",
       "      <th>2782</th>\n",
       "      <td>13.349889</td>\n",
       "      <td>152.776455</td>\n",
       "      <td>18464.900775</td>\n",
       "      <td>6.717973</td>\n",
       "      <td>334.864070</td>\n",
       "      <td>450.846369</td>\n",
       "      <td>17.192564</td>\n",
       "      <td>85.883523</td>\n",
       "      <td>2.531075</td>\n",
       "      <td>0</td>\n",
       "    </tr>\n",
       "    <tr>\n",
       "      <th>2783</th>\n",
       "      <td>13.541240</td>\n",
       "      <td>187.606792</td>\n",
       "      <td>13475.912773</td>\n",
       "      <td>6.756055</td>\n",
       "      <td>0.000000</td>\n",
       "      <td>411.264465</td>\n",
       "      <td>15.142667</td>\n",
       "      <td>74.448559</td>\n",
       "      <td>3.529191</td>\n",
       "      <td>0</td>\n",
       "    </tr>\n",
       "    <tr>\n",
       "      <th>2784</th>\n",
       "      <td>14.000000</td>\n",
       "      <td>235.677458</td>\n",
       "      <td>24008.992040</td>\n",
       "      <td>5.635029</td>\n",
       "      <td>381.097711</td>\n",
       "      <td>460.745267</td>\n",
       "      <td>13.452538</td>\n",
       "      <td>72.859468</td>\n",
       "      <td>3.170994</td>\n",
       "      <td>0</td>\n",
       "    </tr>\n",
       "  </tbody>\n",
       "</table>\n",
       "<p>2785 rows × 10 columns</p>\n",
       "</div>"
      ],
      "text/plain": [
       "             ph    Hardness        Solids  Chloramines     Sulfate  \\\n",
       "0      0.000000  214.846144  49456.587108     7.897539    0.000000   \n",
       "1      0.227499  152.530111  39028.599340     3.462492  283.693782   \n",
       "2      0.975578  221.204114  31145.110739     7.615583  333.677843   \n",
       "3      0.989912  133.216942  16922.853899     9.293289  444.375731   \n",
       "4      1.431782  228.130383  12937.246891     6.214773  319.734136   \n",
       "...         ...         ...           ...          ...         ...   \n",
       "2780  12.246928  217.368014  11318.140563     8.465160  375.894758   \n",
       "2781  13.175402   47.432000  19237.949676     8.907020  375.147315   \n",
       "2782  13.349889  152.776455  18464.900775     6.717973  334.864070   \n",
       "2783  13.541240  187.606792  13475.912773     6.756055    0.000000   \n",
       "2784  14.000000  235.677458  24008.992040     5.635029  381.097711   \n",
       "\n",
       "      Conductivity  Organic_carbon  Trihalomethanes  Turbidity  Potability  \n",
       "0       583.448849        7.702328        77.712891   4.928840           0  \n",
       "1       443.029232       13.201943        62.322711   3.545741           1  \n",
       "2       439.112765       21.145954         0.000000   2.533996           0  \n",
       "3       322.291191       10.430076        43.578466   5.160604           1  \n",
       "4       495.379883       12.033344        61.141119   4.948443           0  \n",
       "...            ...             ...              ...        ...         ...  \n",
       "2780    347.653054        9.762505        73.832405   3.533243           0  \n",
       "2781    500.245952       12.083896         0.000000   4.106924           1  \n",
       "2782    450.846369       17.192564        85.883523   2.531075           0  \n",
       "2783    411.264465       15.142667        74.448559   3.529191           0  \n",
       "2784    460.745267       13.452538        72.859468   3.170994           0  \n",
       "\n",
       "[2785 rows x 10 columns]"
      ]
     },
     "execution_count": 10,
     "metadata": {},
     "output_type": "execute_result"
    }
   ],
   "source": [
    "water.groupby('ph').sum().reset_index()"
   ]
  },
  {
   "cell_type": "markdown",
   "metadata": {},
   "source": [
    "# 2 Exploratory Data Analysis<a id='2_Exploratory_Data_Analysis'></a>"
   ]
  },
  {
   "cell_type": "markdown",
   "metadata": {},
   "source": [
    "## Contents<a id='2.1_Contents'></a>\n",
    "  * [2.1 Principle components analysis](#2.1_PCA)\n",
    "    * [2.1.1 Scale the data](#2.1.1_Scale_the_data)\n",
    "      * [2.1.1.1 Verifying the scaling](#2.1.1.1_Verifying_the_scaling)\n",
    "  * [2.2 Calculate the PCA transformation](#2.2_PCA_transformation)\n",
    "  * [2.3 Average potability by ph](#2.3_Average_target_by_descriptor)\n",
    "  * [2.4 Adding average potability to scatter plot](#2.4_Adding_average_target_to_scatter_plot)\n",
    "  * [2.5 Conclusion On How To Handle ph](#2.5_Conclusion_On_How_To_descriptor)\n",
    "    * [2.5.1 Numeric Data](#2.5.1_Resort_Numeric_Data)\n",
    "      * [2.5.1.1 Feature engineering](#2.5.1.1_Feature_engineering)\n",
    "      * [2.5.1.2 Feature correlation heatmap](#2.5.1.2_Feature_correlation_heatmap)\n",
    "      * [2.5.1.3 Scatterplots of numeric features Potability](#2.5.1.3_Scatterplots_of_numeric_features_against_target)\n",
    "  * [2.6 Summary](#2.6_Summary)"
   ]
  },
  {
   "cell_type": "markdown",
   "metadata": {},
   "source": [
    "# 2.1 Sanity check"
   ]
  },
  {
   "cell_type": "markdown",
   "metadata": {},
   "source": [
    "Using the common knowledge about water potability, let's evaluate the values that we have in the table."
   ]
  },
  {
   "cell_type": "code",
   "execution_count": 11,
   "metadata": {},
   "outputs": [],
   "source": [
    "# df = water\n",
    "# bins = [-np.inf, 0, 6.5, 8.5, np.inf],\n",
    "# names=['out_range_low', 'acid', 'potable','basic','out_range_high']\n",
    "# column = 'ph'\n",
    "# def categorize(df, column, bins, names):\n",
    "# #     a = df[columns]\n",
    "# #     df[column + '_cat'] = pd.cut(df, bins , labels=names, include_lowest=True)\n",
    "# #     df\n",
    "# #     df = df.join(c.add_suffix('_cat'))\n",
    "# #     c = pd.cut(df.stack(), bins, labels = names)\n",
    "# #     df_cat = df.join(c.unstack().add_suffix('_cat'))\n",
    "# #     ranges = df_cat.groupby(['Potability',column+'_cat']).agg(['count','min','max'])\n",
    "# #     ranges[column]\n",
    "# categorize(df,'ph',bins,names)"
   ]
  },
  {
   "cell_type": "code",
   "execution_count": 12,
   "metadata": {},
   "outputs": [],
   "source": [
    "# # 1. pH\n",
    "# bins = [-np.inf, 0, 6.5, 8.5, 14, np.inf]\n",
    "# labels = ['out_range_low', 'acid', 'potable','basic','out_range_high']\n",
    "# categorize(water,'ph',bins,labels)\n",
    "\n",
    "# # 2. Hardness\n",
    "# # bins = [-np.inf, 0, 6.5, 8.5, 14, np.inf]\n",
    "# # names = ['out_range_low', 'acid', 'potable','basic','out_range_high']\n",
    "# # categorize(water,'Potability',bins,labels)\n",
    "\n",
    "# # 3. Solids\n",
    "# bins = [-np.inf, 0, 500, 1000, np.inf],\n",
    "# labels=['out_range_low', 'low', 'potable','high']\n",
    "# categorize(water,'Solids',bins,labels)\n",
    "\n",
    "# # 4. Chloramines\n",
    "# bins = [-np.inf, 0, 4, np.inf],\n",
    "# labels=['out_range_low', 'potable','high']\n",
    "# categorize(water,'Chloramines',bins,labels)\n",
    "\n",
    "# # 5. Sulfate\n",
    "# bins = [-np.inf, 0, 3, 30, np.inf],\n",
    "# labels=['out_range_low', 'low', 'potable','high']\n",
    "# categorize(water,'Sulfate',bins,labels)\n",
    "\n",
    "# # 6. Conductivity\n",
    "# bins = [-np.inf, 0, 400, np.inf],\n",
    "# labels=['out_range_low', 'potable','high']\n",
    "# categorize(water,'Conductivity',bins,labels)\n",
    "\n",
    "# # 7. Organic_carbon\n",
    "# bins = [-np.inf, 0, 2, 4, np.inf],\n",
    "# labels=['out_range_low', 'potable','to be treated','high']\n",
    "# categorize(water,'Organic_carbon',bins,labels)\n",
    "\n",
    "# # 8. Trihalomethanes\n",
    "# bins = [-np.inf, 0, 80, np.inf],\n",
    "# labels=['out_range_low', 'potable','high']\n",
    "# categorize(water,'Trihalomethanes',bins,labels)\n",
    "\n",
    "# # 9. Turbidity\n",
    "# bins =  [-np.inf, 0, 5, np.inf],\n",
    "# labels=['out_range_low', 'potable','high']\n",
    "# categorize(water,'Potability',bins,labels)"
   ]
  },
  {
   "cell_type": "code",
   "execution_count": 13,
   "metadata": {},
   "outputs": [],
   "source": [
    "def visualize(df, column, b, x_min, x_max):\n",
    "    potable = df[df['Potability']==1][column]\n",
    "    no_potable = df[df['Potability']==0][column]\n",
    "\n",
    "    y1, x1, _ = plt.hist(potable,bins=b)\n",
    "    y2, x2, _ = plt.hist(no_potable,bins=b)\n",
    "\n",
    "    plt.clf\n",
    "    plt.hist(potable, bins=b, alpha=0.5, label='potable')\n",
    "    plt.hist(no_potable, bins=b, alpha=0.01, label='non-potable')\n",
    "\n",
    "    plt.axvline(x=x_min, c='b', ls='--', alpha=.5)\n",
    "    plt.axvline(x=x_max, c='b', ls='--', alpha=.5)\n",
    "    \n",
    "    if y1.max() > y2.max():\n",
    "        y_top = y1.max()\n",
    "    else: \n",
    "        y_top = y2.max()\n",
    "\n",
    "#     print(y_top)\n",
    "    plt.fill_betweenx([0, y_top + 10], x_min, x_max, hatch=\"///\", facecolor=\"none\", edgecolor=\"b\", linewidth=0.01, alpha=.4)\n",
    "    plt.legend()\n",
    "    plt.show()"
   ]
  },
  {
   "cell_type": "markdown",
   "metadata": {},
   "source": [
    "**1. pH value:**\n",
    "PH is an important parameter in evaluating the acid–base balance of water. It is also the indicator of acidic or alkaline condition of water status. WHO has recommended maximum permissible limit of pH from 6.5 to 8.5. The current investigation ranges were 6.52–6.83 which are in the range of WHO standards."
   ]
  },
  {
   "cell_type": "code",
   "execution_count": 14,
   "metadata": {
    "scrolled": true
   },
   "outputs": [
    {
     "data": {
      "text/html": [
       "<div>\n",
       "<style scoped>\n",
       "    .dataframe tbody tr th:only-of-type {\n",
       "        vertical-align: middle;\n",
       "    }\n",
       "\n",
       "    .dataframe tbody tr th {\n",
       "        vertical-align: top;\n",
       "    }\n",
       "\n",
       "    .dataframe thead th {\n",
       "        text-align: right;\n",
       "    }\n",
       "</style>\n",
       "<table border=\"1\" class=\"dataframe\">\n",
       "  <thead>\n",
       "    <tr style=\"text-align: right;\">\n",
       "      <th></th>\n",
       "      <th></th>\n",
       "      <th>count</th>\n",
       "      <th>min</th>\n",
       "      <th>max</th>\n",
       "    </tr>\n",
       "    <tr>\n",
       "      <th>Potability</th>\n",
       "      <th>ph_cat</th>\n",
       "      <th></th>\n",
       "      <th></th>\n",
       "      <th></th>\n",
       "    </tr>\n",
       "  </thead>\n",
       "  <tbody>\n",
       "    <tr>\n",
       "      <th rowspan=\"5\" valign=\"top\">0</th>\n",
       "      <th>out_range_low</th>\n",
       "      <td>1</td>\n",
       "      <td>0.000000</td>\n",
       "      <td>0.000000</td>\n",
       "    </tr>\n",
       "    <tr>\n",
       "      <th>acid</th>\n",
       "      <td>611</td>\n",
       "      <td>0.975578</td>\n",
       "      <td>6.499068</td>\n",
       "    </tr>\n",
       "    <tr>\n",
       "      <th>potable</th>\n",
       "      <td>745</td>\n",
       "      <td>6.503638</td>\n",
       "      <td>8.490572</td>\n",
       "    </tr>\n",
       "    <tr>\n",
       "      <th>basic</th>\n",
       "      <td>327</td>\n",
       "      <td>8.506979</td>\n",
       "      <td>14.000000</td>\n",
       "    </tr>\n",
       "    <tr>\n",
       "      <th>out_range_high</th>\n",
       "      <td>0</td>\n",
       "      <td>NaN</td>\n",
       "      <td>NaN</td>\n",
       "    </tr>\n",
       "    <tr>\n",
       "      <th rowspan=\"5\" valign=\"top\">1</th>\n",
       "      <th>out_range_low</th>\n",
       "      <td>0</td>\n",
       "      <td>NaN</td>\n",
       "      <td>NaN</td>\n",
       "    </tr>\n",
       "    <tr>\n",
       "      <th>acid</th>\n",
       "      <td>356</td>\n",
       "      <td>0.227499</td>\n",
       "      <td>6.486153</td>\n",
       "    </tr>\n",
       "    <tr>\n",
       "      <th>potable</th>\n",
       "      <td>583</td>\n",
       "      <td>6.504113</td>\n",
       "      <td>8.473649</td>\n",
       "    </tr>\n",
       "    <tr>\n",
       "      <th>basic</th>\n",
       "      <td>162</td>\n",
       "      <td>8.501711</td>\n",
       "      <td>13.175402</td>\n",
       "    </tr>\n",
       "    <tr>\n",
       "      <th>out_range_high</th>\n",
       "      <td>0</td>\n",
       "      <td>NaN</td>\n",
       "      <td>NaN</td>\n",
       "    </tr>\n",
       "  </tbody>\n",
       "</table>\n",
       "</div>"
      ],
      "text/plain": [
       "                           count       min        max\n",
       "Potability ph_cat                                    \n",
       "0          out_range_low       1  0.000000   0.000000\n",
       "           acid              611  0.975578   6.499068\n",
       "           potable           745  6.503638   8.490572\n",
       "           basic             327  8.506979  14.000000\n",
       "           out_range_high      0       NaN        NaN\n",
       "1          out_range_low       0       NaN        NaN\n",
       "           acid              356  0.227499   6.486153\n",
       "           potable           583  6.504113   8.473649\n",
       "           basic             162  8.501711  13.175402\n",
       "           out_range_high      0       NaN        NaN"
      ]
     },
     "execution_count": 14,
     "metadata": {},
     "output_type": "execute_result"
    }
   ],
   "source": [
    "c = pd.cut(\n",
    "    water.stack(),\n",
    "    [-np.inf, 0, 6.5, 8.5, 14, np.inf],\n",
    "    labels = ['out_range_low', 'acid', 'potable','basic','out_range_high']\n",
    ")\n",
    "water_cat = water.join(c.unstack().add_suffix('_cat'))\n",
    "ranges = water_cat.groupby(['Potability','ph'+'_cat']).agg(['count','min','max'])\n",
    "ranges.ph\n",
    "\n",
    "# water_ranges_by_potabillity.ph.T"
   ]
  },
  {
   "cell_type": "code",
   "execution_count": 15,
   "metadata": {},
   "outputs": [],
   "source": [
    "# ranges = water_cat.groupby(['Potability','ph'+'_cat']).agg(['count','min','max'])\n",
    "# ranges.ph"
   ]
  },
  {
   "cell_type": "markdown",
   "metadata": {},
   "source": [
    "- pH of gastric acid is 1.5 to 3.5. We have 0.22 classified as potable. Something is wrong. The classification of potability has 258 rows classified as potable with pH < 6.5 what is not considered potable by WHO.\n",
    "Let's take a look in the distribution of pH for the potable water in the table."
   ]
  },
  {
   "cell_type": "code",
   "execution_count": 16,
   "metadata": {},
   "outputs": [
    {
     "data": {
      "image/png": "[encoded data removed]",
      "text/plain": [
       "<Figure size 432x288 with 1 Axes>"
      ]
     },
     "metadata": {
      "needs_background": "light"
     },
     "output_type": "display_data"
    }
   ],
   "source": [
    "visualize(water,'ph',30,6.5,8.5)"
   ]
  },
  {
   "cell_type": "code",
   "execution_count": 17,
   "metadata": {},
   "outputs": [
    {
     "data": {
      "text/plain": [
       "356"
      ]
     },
     "execution_count": 17,
     "metadata": {},
     "output_type": "execute_result"
    }
   ],
   "source": [
    "potable = water[water['Potability']==1]\n",
    "potable[potable['ph'] < 6.5].ph.count()"
   ]
  },
  {
   "cell_type": "markdown",
   "metadata": {},
   "source": [
    "**2. Hardness:**\n",
    "Hardness is mainly caused by calcium and magnesium salts. These salts are dissolved from geologic deposits through which water travels. The length of time water is in contact with hardness producing material helps determine how much hardness there is in raw water. Hardness was originally defined as the capacity of water to precipitate soap caused by Calcium and Magnesium."
   ]
  },
  {
   "cell_type": "code",
   "execution_count": 18,
   "metadata": {},
   "outputs": [],
   "source": [
    "# c = pd.cut(\n",
    "#     water.stack(),\n",
    "#     [-np.inf, 0, 6.5, 8.5, 14, np.inf],\n",
    "#     labels = ['out_range_low', 'acid', 'potable','basic','out_range_high']\n",
    "# )\n",
    "# water_cat = water.join(c.unstack().add_suffix('_cat'))\n",
    "# ranges = water_cat.groupby(['Potability','Hardness'+'_cat']).agg(['count','min','max'])\n",
    "# ranges.Hardness"
   ]
  },
  {
   "cell_type": "code",
   "execution_count": 19,
   "metadata": {},
   "outputs": [
    {
     "data": {
      "image/png": "[encoded data removed]",
      "text/plain": [
       "<Figure size 432x288 with 1 Axes>"
      ]
     },
     "metadata": {
      "needs_background": "light"
     },
     "output_type": "display_data"
    }
   ],
   "source": [
    "visualize(water,'Hardness',30,0,1)"
   ]
  },
  {
   "cell_type": "markdown",
   "metadata": {},
   "source": []
  },
  {
   "cell_type": "markdown",
   "metadata": {},
   "source": [
    "**3. Solids (Total dissolved solids - TDS):**\n",
    "Water has the ability to dissolve a wide range of inorganic and some organic minerals or salts such as potassium, calcium, sodium, bicarbonates, chlorides, magnesium, sulfates etc. These minerals produced un-wanted taste and diluted color in appearance of water. This is the important parameter for the use of water. The water with high TDS value indicates that water is highly mineralized. Desirable limit for TDS is 500 mg/l and maximum limit is 1000 mg/l which prescribed for drinking purpose."
   ]
  },
  {
   "cell_type": "code",
   "execution_count": 20,
   "metadata": {},
   "outputs": [
    {
     "data": {
      "text/html": [
       "<div>\n",
       "<style scoped>\n",
       "    .dataframe tbody tr th:only-of-type {\n",
       "        vertical-align: middle;\n",
       "    }\n",
       "\n",
       "    .dataframe tbody tr th {\n",
       "        vertical-align: top;\n",
       "    }\n",
       "\n",
       "    .dataframe thead th {\n",
       "        text-align: right;\n",
       "    }\n",
       "</style>\n",
       "<table border=\"1\" class=\"dataframe\">\n",
       "  <thead>\n",
       "    <tr style=\"text-align: right;\">\n",
       "      <th></th>\n",
       "      <th></th>\n",
       "      <th>count</th>\n",
       "      <th>min</th>\n",
       "      <th>max</th>\n",
       "    </tr>\n",
       "    <tr>\n",
       "      <th>Potability</th>\n",
       "      <th>Solids_cat</th>\n",
       "      <th></th>\n",
       "      <th></th>\n",
       "      <th></th>\n",
       "    </tr>\n",
       "  </thead>\n",
       "  <tbody>\n",
       "    <tr>\n",
       "      <th rowspan=\"4\" valign=\"top\">0</th>\n",
       "      <th>out_range_low</th>\n",
       "      <td>0</td>\n",
       "      <td>NaN</td>\n",
       "      <td>NaN</td>\n",
       "    </tr>\n",
       "    <tr>\n",
       "      <th>low</th>\n",
       "      <td>1</td>\n",
       "      <td>320.942611</td>\n",
       "      <td>320.942611</td>\n",
       "    </tr>\n",
       "    <tr>\n",
       "      <th>potable</th>\n",
       "      <td>0</td>\n",
       "      <td>NaN</td>\n",
       "      <td>NaN</td>\n",
       "    </tr>\n",
       "    <tr>\n",
       "      <th>high</th>\n",
       "      <td>1997</td>\n",
       "      <td>2552.962804</td>\n",
       "      <td>61227.196008</td>\n",
       "    </tr>\n",
       "    <tr>\n",
       "      <th rowspan=\"4\" valign=\"top\">1</th>\n",
       "      <th>out_range_low</th>\n",
       "      <td>0</td>\n",
       "      <td>NaN</td>\n",
       "      <td>NaN</td>\n",
       "    </tr>\n",
       "    <tr>\n",
       "      <th>low</th>\n",
       "      <td>0</td>\n",
       "      <td>NaN</td>\n",
       "      <td>NaN</td>\n",
       "    </tr>\n",
       "    <tr>\n",
       "      <th>potable</th>\n",
       "      <td>1</td>\n",
       "      <td>728.750830</td>\n",
       "      <td>728.750830</td>\n",
       "    </tr>\n",
       "    <tr>\n",
       "      <th>high</th>\n",
       "      <td>1277</td>\n",
       "      <td>1198.943699</td>\n",
       "      <td>56488.672413</td>\n",
       "    </tr>\n",
       "  </tbody>\n",
       "</table>\n",
       "</div>"
      ],
      "text/plain": [
       "                          count          min           max\n",
       "Potability Solids_cat                                     \n",
       "0          out_range_low      0          NaN           NaN\n",
       "           low                1   320.942611    320.942611\n",
       "           potable            0          NaN           NaN\n",
       "           high            1997  2552.962804  61227.196008\n",
       "1          out_range_low      0          NaN           NaN\n",
       "           low                0          NaN           NaN\n",
       "           potable            1   728.750830    728.750830\n",
       "           high            1277  1198.943699  56488.672413"
      ]
     },
     "execution_count": 20,
     "metadata": {},
     "output_type": "execute_result"
    }
   ],
   "source": [
    "c = pd.cut(\n",
    "    water.stack(),\n",
    "    [-np.inf, 0, 500, 1000, np.inf],\n",
    "    labels=['out_range_low', 'low', 'potable','high']\n",
    ")\n",
    "water_cat = water.join(c.unstack().add_suffix('_cat'))\n",
    "ranges = water_cat.groupby(['Potability','Solids'+'_cat']).agg(['count','min','max'])\n",
    "ranges.Solids\n",
    "# ranges[ranges.count > 0].Solids"
   ]
  },
  {
   "cell_type": "code",
   "execution_count": 21,
   "metadata": {},
   "outputs": [
    {
     "data": {
      "image/png": "[encoded data removed]",
      "text/plain": [
       "<Figure size 432x288 with 1 Axes>"
      ]
     },
     "metadata": {
      "needs_background": "light"
     },
     "output_type": "display_data"
    }
   ],
   "source": [
    "visualize(water,'Solids',30,500,1000)"
   ]
  },
  {
   "cell_type": "markdown",
   "metadata": {},
   "source": []
  },
  {
   "cell_type": "markdown",
   "metadata": {},
   "source": [
    "**4. Chloramines:**\n",
    "Chlorine and chloramine are the major disinfectants used in public water systems. Chloramines are most commonly formed when ammonia is added to chlorine to treat drinking water. Chlorine levels up to 4 milligrams per liter (mg/L or 4 parts per million (ppm)) are considered safe in drinking water."
   ]
  },
  {
   "cell_type": "code",
   "execution_count": 22,
   "metadata": {},
   "outputs": [
    {
     "data": {
      "text/html": [
       "<div>\n",
       "<style scoped>\n",
       "    .dataframe tbody tr th:only-of-type {\n",
       "        vertical-align: middle;\n",
       "    }\n",
       "\n",
       "    .dataframe tbody tr th {\n",
       "        vertical-align: top;\n",
       "    }\n",
       "\n",
       "    .dataframe thead th {\n",
       "        text-align: right;\n",
       "    }\n",
       "</style>\n",
       "<table border=\"1\" class=\"dataframe\">\n",
       "  <thead>\n",
       "    <tr style=\"text-align: right;\">\n",
       "      <th></th>\n",
       "      <th></th>\n",
       "      <th>count</th>\n",
       "      <th>min</th>\n",
       "      <th>max</th>\n",
       "    </tr>\n",
       "    <tr>\n",
       "      <th>Potability</th>\n",
       "      <th>Chloramines_cat</th>\n",
       "      <th></th>\n",
       "      <th></th>\n",
       "      <th></th>\n",
       "    </tr>\n",
       "  </thead>\n",
       "  <tbody>\n",
       "    <tr>\n",
       "      <th rowspan=\"3\" valign=\"top\">0</th>\n",
       "      <th>out_range_low</th>\n",
       "      <td>0</td>\n",
       "      <td>NaN</td>\n",
       "      <td>NaN</td>\n",
       "    </tr>\n",
       "    <tr>\n",
       "      <th>potable</th>\n",
       "      <td>53</td>\n",
       "      <td>1.683993</td>\n",
       "      <td>3.998266</td>\n",
       "    </tr>\n",
       "    <tr>\n",
       "      <th>high</th>\n",
       "      <td>1945</td>\n",
       "      <td>4.008584</td>\n",
       "      <td>12.653362</td>\n",
       "    </tr>\n",
       "    <tr>\n",
       "      <th rowspan=\"3\" valign=\"top\">1</th>\n",
       "      <th>out_range_low</th>\n",
       "      <td>0</td>\n",
       "      <td>NaN</td>\n",
       "      <td>NaN</td>\n",
       "    </tr>\n",
       "    <tr>\n",
       "      <th>potable</th>\n",
       "      <td>36</td>\n",
       "      <td>0.352000</td>\n",
       "      <td>3.924183</td>\n",
       "    </tr>\n",
       "    <tr>\n",
       "      <th>high</th>\n",
       "      <td>1242</td>\n",
       "      <td>4.013444</td>\n",
       "      <td>13.127000</td>\n",
       "    </tr>\n",
       "  </tbody>\n",
       "</table>\n",
       "</div>"
      ],
      "text/plain": [
       "                            count       min        max\n",
       "Potability Chloramines_cat                            \n",
       "0          out_range_low        0       NaN        NaN\n",
       "           potable             53  1.683993   3.998266\n",
       "           high              1945  4.008584  12.653362\n",
       "1          out_range_low        0       NaN        NaN\n",
       "           potable             36  0.352000   3.924183\n",
       "           high              1242  4.013444  13.127000"
      ]
     },
     "execution_count": 22,
     "metadata": {},
     "output_type": "execute_result"
    }
   ],
   "source": [
    "c = pd.cut(\n",
    "    water.stack(),\n",
    "    [-np.inf, 0, 4, np.inf],\n",
    "    labels=['out_range_low', 'potable','high']\n",
    ")\n",
    "water_cat = water.join(c.unstack().add_suffix('_cat'))\n",
    "ranges = water_cat.groupby(['Potability','Chloramines'+'_cat']).agg(['count','min','max'])\n",
    "ranges.Chloramines"
   ]
  },
  {
   "cell_type": "code",
   "execution_count": 23,
   "metadata": {},
   "outputs": [
    {
     "data": {
      "image/png": "[encoded data removed]",
      "text/plain": [
       "<Figure size 432x288 with 1 Axes>"
      ]
     },
     "metadata": {
      "needs_background": "light"
     },
     "output_type": "display_data"
    }
   ],
   "source": [
    "visualize(water,'Chloramines',30,0,4)"
   ]
  },
  {
   "cell_type": "markdown",
   "metadata": {},
   "source": []
  },
  {
   "cell_type": "markdown",
   "metadata": {},
   "source": [
    "**5. Sulfate:**\n",
    "Sulfates are naturally occurring substances that are found in minerals, soil, and rocks. They are present in ambient air, groundwater, plants, and food. The principal commercial use of sulfate is in the chemical industry. Sulfate concentration in seawater is about 2,700 milligrams per liter (mg/L). It ranges from 3 to 30 mg/L in most freshwater supplies, although much higher concentrations (1000 mg/L) are found in some geographic locations."
   ]
  },
  {
   "cell_type": "code",
   "execution_count": 24,
   "metadata": {},
   "outputs": [
    {
     "data": {
      "text/html": [
       "<div>\n",
       "<style scoped>\n",
       "    .dataframe tbody tr th:only-of-type {\n",
       "        vertical-align: middle;\n",
       "    }\n",
       "\n",
       "    .dataframe tbody tr th {\n",
       "        vertical-align: top;\n",
       "    }\n",
       "\n",
       "    .dataframe thead th {\n",
       "        text-align: right;\n",
       "    }\n",
       "</style>\n",
       "<table border=\"1\" class=\"dataframe\">\n",
       "  <thead>\n",
       "    <tr style=\"text-align: right;\">\n",
       "      <th></th>\n",
       "      <th></th>\n",
       "      <th>count</th>\n",
       "      <th>min</th>\n",
       "      <th>max</th>\n",
       "    </tr>\n",
       "    <tr>\n",
       "      <th>Potability</th>\n",
       "      <th>Sulfate_cat</th>\n",
       "      <th></th>\n",
       "      <th></th>\n",
       "      <th></th>\n",
       "    </tr>\n",
       "  </thead>\n",
       "  <tbody>\n",
       "    <tr>\n",
       "      <th rowspan=\"4\" valign=\"top\">0</th>\n",
       "      <th>out_range_low</th>\n",
       "      <td>0</td>\n",
       "      <td>NaN</td>\n",
       "      <td>NaN</td>\n",
       "    </tr>\n",
       "    <tr>\n",
       "      <th>low</th>\n",
       "      <td>0</td>\n",
       "      <td>NaN</td>\n",
       "      <td>NaN</td>\n",
       "    </tr>\n",
       "    <tr>\n",
       "      <th>potable</th>\n",
       "      <td>0</td>\n",
       "      <td>NaN</td>\n",
       "      <td>NaN</td>\n",
       "    </tr>\n",
       "    <tr>\n",
       "      <th>high</th>\n",
       "      <td>1510</td>\n",
       "      <td>203.444521</td>\n",
       "      <td>460.107069</td>\n",
       "    </tr>\n",
       "    <tr>\n",
       "      <th rowspan=\"4\" valign=\"top\">1</th>\n",
       "      <th>out_range_low</th>\n",
       "      <td>0</td>\n",
       "      <td>NaN</td>\n",
       "      <td>NaN</td>\n",
       "    </tr>\n",
       "    <tr>\n",
       "      <th>low</th>\n",
       "      <td>0</td>\n",
       "      <td>NaN</td>\n",
       "      <td>NaN</td>\n",
       "    </tr>\n",
       "    <tr>\n",
       "      <th>potable</th>\n",
       "      <td>0</td>\n",
       "      <td>NaN</td>\n",
       "      <td>NaN</td>\n",
       "    </tr>\n",
       "    <tr>\n",
       "      <th>high</th>\n",
       "      <td>985</td>\n",
       "      <td>129.000000</td>\n",
       "      <td>481.030642</td>\n",
       "    </tr>\n",
       "  </tbody>\n",
       "</table>\n",
       "</div>"
      ],
      "text/plain": [
       "                          count         min         max\n",
       "Potability Sulfate_cat                                 \n",
       "0          out_range_low      0         NaN         NaN\n",
       "           low                0         NaN         NaN\n",
       "           potable            0         NaN         NaN\n",
       "           high            1510  203.444521  460.107069\n",
       "1          out_range_low      0         NaN         NaN\n",
       "           low                0         NaN         NaN\n",
       "           potable            0         NaN         NaN\n",
       "           high             985  129.000000  481.030642"
      ]
     },
     "execution_count": 24,
     "metadata": {},
     "output_type": "execute_result"
    }
   ],
   "source": [
    "c = pd.cut(\n",
    "    water.stack(),\n",
    "    [-np.inf, 0, 3, 30, np.inf],\n",
    "    labels=['out_range_low', 'low', 'potable','high']\n",
    ")\n",
    "water_cat = water.join(c.unstack().add_suffix('_cat'))\n",
    "ranges = water_cat.groupby(['Potability','Sulfate'+'_cat']).agg(['count','min','max'])\n",
    "ranges.Sulfate"
   ]
  },
  {
   "cell_type": "code",
   "execution_count": 25,
   "metadata": {},
   "outputs": [
    {
     "data": {
      "image/png": "[encoded data removed]",
      "text/plain": [
       "<Figure size 432x288 with 1 Axes>"
      ]
     },
     "metadata": {
      "needs_background": "light"
     },
     "output_type": "display_data"
    }
   ],
   "source": [
    "visualize(water,'Sulfate',30,3,30)"
   ]
  },
  {
   "cell_type": "markdown",
   "metadata": {},
   "source": []
  },
  {
   "cell_type": "markdown",
   "metadata": {},
   "source": [
    "**6. Conductivity:**\n",
    "Pure water is not a good conductor of electric current rather’s a good insulator. Increase in ions concentration enhances the electrical conductivity of water. Generally, the amount of dissolved solids in water determines the electrical conductivity. Electrical conductivity (EC) actually measures the ionic process of a solution that enables it to transmit current. According to WHO standards, EC value should not exceeded 400 μS/cm."
   ]
  },
  {
   "cell_type": "code",
   "execution_count": 26,
   "metadata": {},
   "outputs": [
    {
     "data": {
      "text/html": [
       "<div>\n",
       "<style scoped>\n",
       "    .dataframe tbody tr th:only-of-type {\n",
       "        vertical-align: middle;\n",
       "    }\n",
       "\n",
       "    .dataframe tbody tr th {\n",
       "        vertical-align: top;\n",
       "    }\n",
       "\n",
       "    .dataframe thead th {\n",
       "        text-align: right;\n",
       "    }\n",
       "</style>\n",
       "<table border=\"1\" class=\"dataframe\">\n",
       "  <thead>\n",
       "    <tr style=\"text-align: right;\">\n",
       "      <th></th>\n",
       "      <th></th>\n",
       "      <th>count</th>\n",
       "      <th>min</th>\n",
       "      <th>max</th>\n",
       "    </tr>\n",
       "    <tr>\n",
       "      <th>Potability</th>\n",
       "      <th>Conductivity_cat</th>\n",
       "      <th></th>\n",
       "      <th></th>\n",
       "      <th></th>\n",
       "    </tr>\n",
       "  </thead>\n",
       "  <tbody>\n",
       "    <tr>\n",
       "      <th rowspan=\"3\" valign=\"top\">0</th>\n",
       "      <th>out_range_low</th>\n",
       "      <td>0</td>\n",
       "      <td>NaN</td>\n",
       "      <td>NaN</td>\n",
       "    </tr>\n",
       "    <tr>\n",
       "      <th>potable</th>\n",
       "      <td>798</td>\n",
       "      <td>181.483754</td>\n",
       "      <td>399.954833</td>\n",
       "    </tr>\n",
       "    <tr>\n",
       "      <th>high</th>\n",
       "      <td>1200</td>\n",
       "      <td>400.003589</td>\n",
       "      <td>753.342620</td>\n",
       "    </tr>\n",
       "    <tr>\n",
       "      <th rowspan=\"3\" valign=\"top\">1</th>\n",
       "      <th>out_range_low</th>\n",
       "      <td>0</td>\n",
       "      <td>NaN</td>\n",
       "      <td>NaN</td>\n",
       "    </tr>\n",
       "    <tr>\n",
       "      <th>potable</th>\n",
       "      <td>516</td>\n",
       "      <td>201.619737</td>\n",
       "      <td>399.766965</td>\n",
       "    </tr>\n",
       "    <tr>\n",
       "      <th>high</th>\n",
       "      <td>762</td>\n",
       "      <td>400.451268</td>\n",
       "      <td>695.369528</td>\n",
       "    </tr>\n",
       "  </tbody>\n",
       "</table>\n",
       "</div>"
      ],
      "text/plain": [
       "                             count         min         max\n",
       "Potability Conductivity_cat                               \n",
       "0          out_range_low         0         NaN         NaN\n",
       "           potable             798  181.483754  399.954833\n",
       "           high               1200  400.003589  753.342620\n",
       "1          out_range_low         0         NaN         NaN\n",
       "           potable             516  201.619737  399.766965\n",
       "           high                762  400.451268  695.369528"
      ]
     },
     "execution_count": 26,
     "metadata": {},
     "output_type": "execute_result"
    }
   ],
   "source": [
    "c = pd.cut(\n",
    "    water.stack(),\n",
    "    [-np.inf, 0, 400, np.inf],\n",
    "    labels=['out_range_low', 'potable','high']\n",
    ")\n",
    "water_cat = water.join(c.unstack().add_suffix('_cat'))\n",
    "ranges = water_cat.groupby(['Potability','Conductivity'+'_cat']).agg(['count','min','max'])\n",
    "ranges.Conductivity"
   ]
  },
  {
   "cell_type": "code",
   "execution_count": 27,
   "metadata": {},
   "outputs": [
    {
     "data": {
      "image/png": "[encoded data removed]",
      "text/plain": [
       "<Figure size 432x288 with 1 Axes>"
      ]
     },
     "metadata": {
      "needs_background": "light"
     },
     "output_type": "display_data"
    }
   ],
   "source": [
    "visualize(water,'Conductivity',30,0,400)"
   ]
  },
  {
   "cell_type": "markdown",
   "metadata": {},
   "source": []
  },
  {
   "cell_type": "markdown",
   "metadata": {},
   "source": [
    "**7. Organic_carbon:**\n",
    "Total Organic Carbon (TOC) in source waters comes from decaying natural organic matter (NOM) as well as synthetic sources. TOC is a measure of the total amount of carbon in organic compounds in pure water. According to US EPA < 2 mg/L as TOC in treated / drinking water, and < 4 mg/Lit in source water which is use for treatment."
   ]
  },
  {
   "cell_type": "code",
   "execution_count": 28,
   "metadata": {},
   "outputs": [
    {
     "data": {
      "text/html": [
       "<div>\n",
       "<style scoped>\n",
       "    .dataframe tbody tr th:only-of-type {\n",
       "        vertical-align: middle;\n",
       "    }\n",
       "\n",
       "    .dataframe tbody tr th {\n",
       "        vertical-align: top;\n",
       "    }\n",
       "\n",
       "    .dataframe thead th {\n",
       "        text-align: right;\n",
       "    }\n",
       "</style>\n",
       "<table border=\"1\" class=\"dataframe\">\n",
       "  <thead>\n",
       "    <tr style=\"text-align: right;\">\n",
       "      <th></th>\n",
       "      <th></th>\n",
       "      <th>count</th>\n",
       "      <th>min</th>\n",
       "      <th>max</th>\n",
       "    </tr>\n",
       "    <tr>\n",
       "      <th>Potability</th>\n",
       "      <th>Organic_carbon_cat</th>\n",
       "      <th></th>\n",
       "      <th></th>\n",
       "      <th></th>\n",
       "    </tr>\n",
       "  </thead>\n",
       "  <tbody>\n",
       "    <tr>\n",
       "      <th rowspan=\"4\" valign=\"top\">0</th>\n",
       "      <th>out_range_low</th>\n",
       "      <td>0</td>\n",
       "      <td>NaN</td>\n",
       "      <td>NaN</td>\n",
       "    </tr>\n",
       "    <tr>\n",
       "      <th>potable</th>\n",
       "      <td>0</td>\n",
       "      <td>NaN</td>\n",
       "      <td>NaN</td>\n",
       "    </tr>\n",
       "    <tr>\n",
       "      <th>to be treated</th>\n",
       "      <td>0</td>\n",
       "      <td>NaN</td>\n",
       "      <td>NaN</td>\n",
       "    </tr>\n",
       "    <tr>\n",
       "      <th>high</th>\n",
       "      <td>1998</td>\n",
       "      <td>4.371899</td>\n",
       "      <td>28.300000</td>\n",
       "    </tr>\n",
       "    <tr>\n",
       "      <th rowspan=\"4\" valign=\"top\">1</th>\n",
       "      <th>out_range_low</th>\n",
       "      <td>0</td>\n",
       "      <td>NaN</td>\n",
       "      <td>NaN</td>\n",
       "    </tr>\n",
       "    <tr>\n",
       "      <th>potable</th>\n",
       "      <td>0</td>\n",
       "      <td>NaN</td>\n",
       "      <td>NaN</td>\n",
       "    </tr>\n",
       "    <tr>\n",
       "      <th>to be treated</th>\n",
       "      <td>1</td>\n",
       "      <td>2.200000</td>\n",
       "      <td>2.200000</td>\n",
       "    </tr>\n",
       "    <tr>\n",
       "      <th>high</th>\n",
       "      <td>1277</td>\n",
       "      <td>5.196717</td>\n",
       "      <td>23.604298</td>\n",
       "    </tr>\n",
       "  </tbody>\n",
       "</table>\n",
       "</div>"
      ],
      "text/plain": [
       "                               count       min        max\n",
       "Potability Organic_carbon_cat                            \n",
       "0          out_range_low           0       NaN        NaN\n",
       "           potable                 0       NaN        NaN\n",
       "           to be treated           0       NaN        NaN\n",
       "           high                 1998  4.371899  28.300000\n",
       "1          out_range_low           0       NaN        NaN\n",
       "           potable                 0       NaN        NaN\n",
       "           to be treated           1  2.200000   2.200000\n",
       "           high                 1277  5.196717  23.604298"
      ]
     },
     "execution_count": 28,
     "metadata": {},
     "output_type": "execute_result"
    }
   ],
   "source": [
    "c = pd.cut(\n",
    "    water.stack(),\n",
    "    [-np.inf, 0, 2, 4, np.inf],\n",
    "    labels=['out_range_low', 'potable','to be treated','high']\n",
    ")\n",
    "water_cat = water.join(c.unstack().add_suffix('_cat'))\n",
    "ranges = water_cat.groupby(['Potability','Organic_carbon'+'_cat']).agg(['count','min','max'])\n",
    "ranges.Organic_carbon"
   ]
  },
  {
   "cell_type": "code",
   "execution_count": 29,
   "metadata": {},
   "outputs": [
    {
     "data": {
      "image/png": "[encoded data removed]",
      "text/plain": [
       "<Figure size 432x288 with 1 Axes>"
      ]
     },
     "metadata": {
      "needs_background": "light"
     },
     "output_type": "display_data"
    }
   ],
   "source": [
    "visualize(water,'Organic_carbon',30,0,4)"
   ]
  },
  {
   "cell_type": "markdown",
   "metadata": {},
   "source": []
  },
  {
   "cell_type": "markdown",
   "metadata": {},
   "source": [
    "**8. Trihalomethanes:**\n",
    "THMs are chemicals which may be found in water treated with chlorine. The concentration of THMs in drinking water varies according to the level of organic material in the water, the amount of chlorine required to treat the water, and the temperature of the water that is being treated. THM levels up to 80 ppm is considered safe in drinking water."
   ]
  },
  {
   "cell_type": "code",
   "execution_count": 30,
   "metadata": {},
   "outputs": [
    {
     "data": {
      "text/html": [
       "<div>\n",
       "<style scoped>\n",
       "    .dataframe tbody tr th:only-of-type {\n",
       "        vertical-align: middle;\n",
       "    }\n",
       "\n",
       "    .dataframe tbody tr th {\n",
       "        vertical-align: top;\n",
       "    }\n",
       "\n",
       "    .dataframe thead th {\n",
       "        text-align: right;\n",
       "    }\n",
       "</style>\n",
       "<table border=\"1\" class=\"dataframe\">\n",
       "  <thead>\n",
       "    <tr style=\"text-align: right;\">\n",
       "      <th></th>\n",
       "      <th></th>\n",
       "      <th>count</th>\n",
       "      <th>min</th>\n",
       "      <th>max</th>\n",
       "    </tr>\n",
       "    <tr>\n",
       "      <th>Potability</th>\n",
       "      <th>Trihalomethanes_cat</th>\n",
       "      <th></th>\n",
       "      <th></th>\n",
       "      <th></th>\n",
       "    </tr>\n",
       "  </thead>\n",
       "  <tbody>\n",
       "    <tr>\n",
       "      <th rowspan=\"3\" valign=\"top\">0</th>\n",
       "      <th>out_range_low</th>\n",
       "      <td>0</td>\n",
       "      <td>NaN</td>\n",
       "      <td>NaN</td>\n",
       "    </tr>\n",
       "    <tr>\n",
       "      <th>potable</th>\n",
       "      <td>1527</td>\n",
       "      <td>0.738000</td>\n",
       "      <td>79.954511</td>\n",
       "    </tr>\n",
       "    <tr>\n",
       "      <th>high</th>\n",
       "      <td>364</td>\n",
       "      <td>80.084233</td>\n",
       "      <td>120.030077</td>\n",
       "    </tr>\n",
       "    <tr>\n",
       "      <th rowspan=\"3\" valign=\"top\">1</th>\n",
       "      <th>out_range_low</th>\n",
       "      <td>0</td>\n",
       "      <td>NaN</td>\n",
       "      <td>NaN</td>\n",
       "    </tr>\n",
       "    <tr>\n",
       "      <th>potable</th>\n",
       "      <td>985</td>\n",
       "      <td>8.175876</td>\n",
       "      <td>79.971647</td>\n",
       "    </tr>\n",
       "    <tr>\n",
       "      <th>high</th>\n",
       "      <td>238</td>\n",
       "      <td>80.012644</td>\n",
       "      <td>124.000000</td>\n",
       "    </tr>\n",
       "  </tbody>\n",
       "</table>\n",
       "</div>"
      ],
      "text/plain": [
       "                                count        min         max\n",
       "Potability Trihalomethanes_cat                              \n",
       "0          out_range_low            0        NaN         NaN\n",
       "           potable               1527   0.738000   79.954511\n",
       "           high                   364  80.084233  120.030077\n",
       "1          out_range_low            0        NaN         NaN\n",
       "           potable                985   8.175876   79.971647\n",
       "           high                   238  80.012644  124.000000"
      ]
     },
     "execution_count": 30,
     "metadata": {},
     "output_type": "execute_result"
    }
   ],
   "source": [
    "c = pd.cut(\n",
    "    water.stack(),\n",
    "    [-np.inf, 0, 80, np.inf],\n",
    "    labels=['out_range_low', 'potable','high']\n",
    ")\n",
    "water_cat = water.join(c.unstack().add_suffix('_cat'))\n",
    "ranges = water_cat.groupby(['Potability','Trihalomethanes'+'_cat']).agg(['count','min','max'])\n",
    "ranges.Trihalomethanes"
   ]
  },
  {
   "cell_type": "code",
   "execution_count": 31,
   "metadata": {},
   "outputs": [
    {
     "data": {
      "image/png": "[encoded data removed]",
      "text/plain": [
       "<Figure size 432x288 with 1 Axes>"
      ]
     },
     "metadata": {
      "needs_background": "light"
     },
     "output_type": "display_data"
    }
   ],
   "source": [
    "visualize(water,'Trihalomethanes',30,0,80)"
   ]
  },
  {
   "cell_type": "markdown",
   "metadata": {},
   "source": []
  },
  {
   "cell_type": "markdown",
   "metadata": {},
   "source": [
    "**9. Turbidity:**\n",
    "The turbidity of water depends on the quantity of solid matter present in the suspended state. It is a measure of light emitting properties of water and the test is used to indicate the quality of waste discharge with respect to colloidal matter. The mean turbidity value obtained for Wondo Genet Campus (0.98 NTU) is lower than the WHO recommended value of 5.00 NTU."
   ]
  },
  {
   "cell_type": "code",
   "execution_count": 32,
   "metadata": {},
   "outputs": [
    {
     "data": {
      "text/html": [
       "<div>\n",
       "<style scoped>\n",
       "    .dataframe tbody tr th:only-of-type {\n",
       "        vertical-align: middle;\n",
       "    }\n",
       "\n",
       "    .dataframe tbody tr th {\n",
       "        vertical-align: top;\n",
       "    }\n",
       "\n",
       "    .dataframe thead th {\n",
       "        text-align: right;\n",
       "    }\n",
       "</style>\n",
       "<table border=\"1\" class=\"dataframe\">\n",
       "  <thead>\n",
       "    <tr style=\"text-align: right;\">\n",
       "      <th></th>\n",
       "      <th></th>\n",
       "      <th>count</th>\n",
       "      <th>min</th>\n",
       "      <th>max</th>\n",
       "    </tr>\n",
       "    <tr>\n",
       "      <th>Potability</th>\n",
       "      <th>Turbidity_cat</th>\n",
       "      <th></th>\n",
       "      <th></th>\n",
       "      <th></th>\n",
       "    </tr>\n",
       "  </thead>\n",
       "  <tbody>\n",
       "    <tr>\n",
       "      <th rowspan=\"3\" valign=\"top\">0</th>\n",
       "      <th>out_range_low</th>\n",
       "      <td>0</td>\n",
       "      <td>NaN</td>\n",
       "      <td>NaN</td>\n",
       "    </tr>\n",
       "    <tr>\n",
       "      <th>potable</th>\n",
       "      <td>1801</td>\n",
       "      <td>1.450000</td>\n",
       "      <td>4.991896</td>\n",
       "    </tr>\n",
       "    <tr>\n",
       "      <th>high</th>\n",
       "      <td>197</td>\n",
       "      <td>5.002361</td>\n",
       "      <td>6.739000</td>\n",
       "    </tr>\n",
       "    <tr>\n",
       "      <th rowspan=\"3\" valign=\"top\">1</th>\n",
       "      <th>out_range_low</th>\n",
       "      <td>0</td>\n",
       "      <td>NaN</td>\n",
       "      <td>NaN</td>\n",
       "    </tr>\n",
       "    <tr>\n",
       "      <th>potable</th>\n",
       "      <td>1161</td>\n",
       "      <td>1.492207</td>\n",
       "      <td>4.999752</td>\n",
       "    </tr>\n",
       "    <tr>\n",
       "      <th>high</th>\n",
       "      <td>117</td>\n",
       "      <td>5.003826</td>\n",
       "      <td>6.494249</td>\n",
       "    </tr>\n",
       "  </tbody>\n",
       "</table>\n",
       "</div>"
      ],
      "text/plain": [
       "                          count       min       max\n",
       "Potability Turbidity_cat                           \n",
       "0          out_range_low      0       NaN       NaN\n",
       "           potable         1801  1.450000  4.991896\n",
       "           high             197  5.002361  6.739000\n",
       "1          out_range_low      0       NaN       NaN\n",
       "           potable         1161  1.492207  4.999752\n",
       "           high             117  5.003826  6.494249"
      ]
     },
     "execution_count": 32,
     "metadata": {},
     "output_type": "execute_result"
    }
   ],
   "source": [
    "c = pd.cut(\n",
    "    water.stack(),\n",
    "    [-np.inf, 0, 5, np.inf],\n",
    "    labels=['out_range_low', 'potable','high']\n",
    ")\n",
    "water_cat = water.join(c.unstack().add_suffix('_cat'))\n",
    "ranges = water_cat.groupby(['Potability','Turbidity'+'_cat']).agg(['count','min','max'])\n",
    "ranges.Turbidity"
   ]
  },
  {
   "cell_type": "code",
   "execution_count": 33,
   "metadata": {},
   "outputs": [
    {
     "data": {
      "image/png": "[encoded data removed]",
      "text/plain": [
       "<Figure size 432x288 with 1 Axes>"
      ]
     },
     "metadata": {
      "needs_background": "light"
     },
     "output_type": "display_data"
    }
   ],
   "source": [
    "visualize(water,'Turbidity',30,0,5)"
   ]
  },
  {
   "cell_type": "markdown",
   "metadata": {},
   "source": []
  },
  {
   "cell_type": "markdown",
   "metadata": {},
   "source": []
  },
  {
   "cell_type": "markdown",
   "metadata": {},
   "source": [
    "## 2.1 Principle components analysis [(PCA)](https://scikit-learn.org/stable/modules/generated/sklearn.decomposition.PCA.html#sklearn.decomposition.PCA)<a id='2.1_PCA'></a>"
   ]
  },
  {
   "cell_type": "markdown",
   "metadata": {},
   "source": [
    "The basic steps in this process are:\n",
    "\n",
    "1. scale the data\n",
    "2. fit the PCA transformation (learn the transformation from the data)\n",
    "3. apply the transformation to the data to create the derived features\n",
    "4. (optionally) use the derived features to look for patterns in the data and explore the coefficients"
   ]
  },
  {
   "cell_type": "markdown",
   "metadata": {},
   "source": [
    "### 2.1.1 Scale the data<a id='2.1.1_Scale_the_data'></a>"
   ]
  },
  {
   "cell_type": "code",
   "execution_count": 34,
   "metadata": {},
   "outputs": [
    {
     "data": {
      "text/html": [
       "<div>\n",
       "<style scoped>\n",
       "    .dataframe tbody tr th:only-of-type {\n",
       "        vertical-align: middle;\n",
       "    }\n",
       "\n",
       "    .dataframe tbody tr th {\n",
       "        vertical-align: top;\n",
       "    }\n",
       "\n",
       "    .dataframe thead th {\n",
       "        text-align: right;\n",
       "    }\n",
       "</style>\n",
       "<table border=\"1\" class=\"dataframe\">\n",
       "  <thead>\n",
       "    <tr style=\"text-align: right;\">\n",
       "      <th></th>\n",
       "      <th>Hardness</th>\n",
       "      <th>Solids</th>\n",
       "      <th>Chloramines</th>\n",
       "      <th>Sulfate</th>\n",
       "      <th>Conductivity</th>\n",
       "      <th>Organic_carbon</th>\n",
       "      <th>Trihalomethanes</th>\n",
       "      <th>Turbidity</th>\n",
       "    </tr>\n",
       "    <tr>\n",
       "      <th>ph</th>\n",
       "      <th></th>\n",
       "      <th></th>\n",
       "      <th></th>\n",
       "      <th></th>\n",
       "      <th></th>\n",
       "      <th></th>\n",
       "      <th></th>\n",
       "      <th></th>\n",
       "    </tr>\n",
       "  </thead>\n",
       "  <tbody>\n",
       "    <tr>\n",
       "      <th>0.000000</th>\n",
       "      <td>214.846144</td>\n",
       "      <td>49456.587108</td>\n",
       "      <td>7.897539</td>\n",
       "      <td>0.000000</td>\n",
       "      <td>583.448849</td>\n",
       "      <td>7.702328</td>\n",
       "      <td>77.712891</td>\n",
       "      <td>4.928840</td>\n",
       "    </tr>\n",
       "    <tr>\n",
       "      <th>0.227499</th>\n",
       "      <td>152.530111</td>\n",
       "      <td>39028.599340</td>\n",
       "      <td>3.462492</td>\n",
       "      <td>283.693782</td>\n",
       "      <td>443.029232</td>\n",
       "      <td>13.201943</td>\n",
       "      <td>62.322711</td>\n",
       "      <td>3.545741</td>\n",
       "    </tr>\n",
       "    <tr>\n",
       "      <th>0.975578</th>\n",
       "      <td>221.204114</td>\n",
       "      <td>31145.110739</td>\n",
       "      <td>7.615583</td>\n",
       "      <td>333.677843</td>\n",
       "      <td>439.112765</td>\n",
       "      <td>21.145954</td>\n",
       "      <td>0.000000</td>\n",
       "      <td>2.533996</td>\n",
       "    </tr>\n",
       "    <tr>\n",
       "      <th>0.989912</th>\n",
       "      <td>133.216942</td>\n",
       "      <td>16922.853899</td>\n",
       "      <td>9.293289</td>\n",
       "      <td>444.375731</td>\n",
       "      <td>322.291191</td>\n",
       "      <td>10.430076</td>\n",
       "      <td>43.578466</td>\n",
       "      <td>5.160604</td>\n",
       "    </tr>\n",
       "    <tr>\n",
       "      <th>1.431782</th>\n",
       "      <td>228.130383</td>\n",
       "      <td>12937.246891</td>\n",
       "      <td>6.214773</td>\n",
       "      <td>319.734136</td>\n",
       "      <td>495.379883</td>\n",
       "      <td>12.033344</td>\n",
       "      <td>61.141119</td>\n",
       "      <td>4.948443</td>\n",
       "    </tr>\n",
       "  </tbody>\n",
       "</table>\n",
       "</div>"
      ],
      "text/plain": [
       "            Hardness        Solids  Chloramines     Sulfate  Conductivity  \\\n",
       "ph                                                                          \n",
       "0.000000  214.846144  49456.587108     7.897539    0.000000    583.448849   \n",
       "0.227499  152.530111  39028.599340     3.462492  283.693782    443.029232   \n",
       "0.975578  221.204114  31145.110739     7.615583  333.677843    439.112765   \n",
       "0.989912  133.216942  16922.853899     9.293289  444.375731    322.291191   \n",
       "1.431782  228.130383  12937.246891     6.214773  319.734136    495.379883   \n",
       "\n",
       "          Organic_carbon  Trihalomethanes  Turbidity  \n",
       "ph                                                    \n",
       "0.000000        7.702328        77.712891   4.928840  \n",
       "0.227499       13.201943        62.322711   3.545741  \n",
       "0.975578       21.145954         0.000000   2.533996  \n",
       "0.989912       10.430076        43.578466   5.160604  \n",
       "1.431782       12.033344        61.141119   4.948443  "
      ]
     },
     "execution_count": 34,
     "metadata": {},
     "output_type": "execute_result"
    }
   ],
   "source": [
    "#New dataframe, `db_summary_scale` from `db_summary` whilst setting the index to '<selected var>'\n",
    "df_summary_scale = water_summary.set_index('ph',drop=True)\n",
    "water_summary = water_summary.set_index('ph',drop=True)\n",
    "#Save the index's labels (using the index attribute of `db_summary_scale`) into the variable 'db_summary_index'\n",
    "df_summary_index = df_summary_scale.index\n",
    "#Save the column names (using the `columns` attribute) of `db_summary_scale` into the variable 'db_summary_columns'\n",
    "df_summary_columns = df_summary_scale.columns\n",
    "df_summary_scale.head()"
   ]
  },
  {
   "cell_type": "code",
   "execution_count": 35,
   "metadata": {},
   "outputs": [
    {
     "data": {
      "text/plain": [
       "Hardness           float64\n",
       "Solids             float64\n",
       "Chloramines        float64\n",
       "Sulfate            float64\n",
       "Conductivity       float64\n",
       "Organic_carbon     float64\n",
       "Trihalomethanes    float64\n",
       "Turbidity          float64\n",
       "dtype: object"
      ]
     },
     "execution_count": 35,
     "metadata": {},
     "output_type": "execute_result"
    }
   ],
   "source": [
    "df_summary_scale.dtypes"
   ]
  },
  {
   "cell_type": "markdown",
   "metadata": {},
   "source": [
    "- Columns are all numeric"
   ]
  },
  {
   "cell_type": "code",
   "execution_count": 36,
   "metadata": {},
   "outputs": [],
   "source": [
    "df_summary_scale = scale(df_summary_scale)"
   ]
  },
  {
   "cell_type": "markdown",
   "metadata": {},
   "source": [
    "- Scaling removes the column headers\n",
    "- Rename the headers"
   ]
  },
  {
   "cell_type": "code",
   "execution_count": 37,
   "metadata": {},
   "outputs": [
    {
     "data": {
      "text/html": [
       "<div>\n",
       "<style scoped>\n",
       "    .dataframe tbody tr th:only-of-type {\n",
       "        vertical-align: middle;\n",
       "    }\n",
       "\n",
       "    .dataframe tbody tr th {\n",
       "        vertical-align: top;\n",
       "    }\n",
       "\n",
       "    .dataframe thead th {\n",
       "        text-align: right;\n",
       "    }\n",
       "</style>\n",
       "<table border=\"1\" class=\"dataframe\">\n",
       "  <thead>\n",
       "    <tr style=\"text-align: right;\">\n",
       "      <th></th>\n",
       "      <th>Hardness</th>\n",
       "      <th>Solids</th>\n",
       "      <th>Chloramines</th>\n",
       "      <th>Sulfate</th>\n",
       "      <th>Conductivity</th>\n",
       "      <th>Organic_carbon</th>\n",
       "      <th>Trihalomethanes</th>\n",
       "      <th>Turbidity</th>\n",
       "    </tr>\n",
       "  </thead>\n",
       "  <tbody>\n",
       "    <tr>\n",
       "      <th>0</th>\n",
       "      <td>0.563686</td>\n",
       "      <td>3.151952</td>\n",
       "      <td>0.484960</td>\n",
       "      <td>-1.724782</td>\n",
       "      <td>1.931752</td>\n",
       "      <td>-1.999725</td>\n",
       "      <td>0.679237</td>\n",
       "      <td>1.221433</td>\n",
       "    </tr>\n",
       "    <tr>\n",
       "      <th>1</th>\n",
       "      <td>-1.328412</td>\n",
       "      <td>1.956106</td>\n",
       "      <td>-2.304678</td>\n",
       "      <td>0.207371</td>\n",
       "      <td>0.197057</td>\n",
       "      <td>-0.334964</td>\n",
       "      <td>-0.043278</td>\n",
       "      <td>-0.540872</td>\n",
       "    </tr>\n",
       "    <tr>\n",
       "      <th>2</th>\n",
       "      <td>0.756733</td>\n",
       "      <td>1.052054</td>\n",
       "      <td>0.307611</td>\n",
       "      <td>0.547797</td>\n",
       "      <td>0.148674</td>\n",
       "      <td>2.069727</td>\n",
       "      <td>-2.969112</td>\n",
       "      <td>-1.830009</td>\n",
       "    </tr>\n",
       "    <tr>\n",
       "      <th>3</th>\n",
       "      <td>-1.914817</td>\n",
       "      <td>-0.578907</td>\n",
       "      <td>1.362885</td>\n",
       "      <td>1.301727</td>\n",
       "      <td>-1.294500</td>\n",
       "      <td>-1.174022</td>\n",
       "      <td>-0.923255</td>\n",
       "      <td>1.516740</td>\n",
       "    </tr>\n",
       "    <tr>\n",
       "      <th>4</th>\n",
       "      <td>0.967035</td>\n",
       "      <td>-1.035963</td>\n",
       "      <td>-0.573497</td>\n",
       "      <td>0.452831</td>\n",
       "      <td>0.843779</td>\n",
       "      <td>-0.688705</td>\n",
       "      <td>-0.098750</td>\n",
       "      <td>1.246411</td>\n",
       "    </tr>\n",
       "  </tbody>\n",
       "</table>\n",
       "</div>"
      ],
      "text/plain": [
       "   Hardness    Solids  Chloramines   Sulfate  Conductivity  Organic_carbon  \\\n",
       "0  0.563686  3.151952     0.484960 -1.724782      1.931752       -1.999725   \n",
       "1 -1.328412  1.956106    -2.304678  0.207371      0.197057       -0.334964   \n",
       "2  0.756733  1.052054     0.307611  0.547797      0.148674        2.069727   \n",
       "3 -1.914817 -0.578907     1.362885  1.301727     -1.294500       -1.174022   \n",
       "4  0.967035 -1.035963    -0.573497  0.452831      0.843779       -0.688705   \n",
       "\n",
       "   Trihalomethanes  Turbidity  \n",
       "0         0.679237   1.221433  \n",
       "1        -0.043278  -0.540872  \n",
       "2        -2.969112  -1.830009  \n",
       "3        -0.923255   1.516740  \n",
       "4        -0.098750   1.246411  "
      ]
     },
     "execution_count": 37,
     "metadata": {},
     "output_type": "execute_result"
    }
   ],
   "source": [
    "#Create a new dataframe from `db_summary_scale` using the column names `db_summary_columns`\n",
    "df_summary_scaled_df = pd.DataFrame(df_summary_scale, columns=df_summary_columns)\n",
    "df_summary_scaled_df.head()"
   ]
  },
  {
   "cell_type": "markdown",
   "metadata": {},
   "source": [
    "#### 2.1.1.1 Verifying the scaling<a id='2.1.1.1_Verifying_the_scaling'></a>"
   ]
  },
  {
   "cell_type": "markdown",
   "metadata": {},
   "source": [
    "Validating the scaling:\n",
    "- Check the average"
   ]
  },
  {
   "cell_type": "code",
   "execution_count": 38,
   "metadata": {},
   "outputs": [
    {
     "data": {
      "text/html": [
       "<div>\n",
       "<style scoped>\n",
       "    .dataframe tbody tr th:only-of-type {\n",
       "        vertical-align: middle;\n",
       "    }\n",
       "\n",
       "    .dataframe tbody tr th {\n",
       "        vertical-align: top;\n",
       "    }\n",
       "\n",
       "    .dataframe thead th {\n",
       "        text-align: right;\n",
       "    }\n",
       "</style>\n",
       "<table border=\"1\" class=\"dataframe\">\n",
       "  <thead>\n",
       "    <tr style=\"text-align: right;\">\n",
       "      <th></th>\n",
       "      <th>mean</th>\n",
       "      <th>std</th>\n",
       "    </tr>\n",
       "  </thead>\n",
       "  <tbody>\n",
       "    <tr>\n",
       "      <th>Hardness</th>\n",
       "      <td>5.703796e-16</td>\n",
       "      <td>1.00018</td>\n",
       "    </tr>\n",
       "    <tr>\n",
       "      <th>Solids</th>\n",
       "      <td>3.940594e-17</td>\n",
       "      <td>1.00018</td>\n",
       "    </tr>\n",
       "    <tr>\n",
       "      <th>Chloramines</th>\n",
       "      <td>-1.620487e-16</td>\n",
       "      <td>1.00018</td>\n",
       "    </tr>\n",
       "    <tr>\n",
       "      <th>Sulfate</th>\n",
       "      <td>4.951156e-17</td>\n",
       "      <td>1.00018</td>\n",
       "    </tr>\n",
       "    <tr>\n",
       "      <th>Conductivity</th>\n",
       "      <td>-7.333252e-16</td>\n",
       "      <td>1.00018</td>\n",
       "    </tr>\n",
       "    <tr>\n",
       "      <th>Organic_carbon</th>\n",
       "      <td>-3.281437e-16</td>\n",
       "      <td>1.00018</td>\n",
       "    </tr>\n",
       "    <tr>\n",
       "      <th>Trihalomethanes</th>\n",
       "      <td>3.059990e-16</td>\n",
       "      <td>1.00018</td>\n",
       "    </tr>\n",
       "    <tr>\n",
       "      <th>Turbidity</th>\n",
       "      <td>-2.713170e-16</td>\n",
       "      <td>1.00018</td>\n",
       "    </tr>\n",
       "  </tbody>\n",
       "</table>\n",
       "</div>"
      ],
      "text/plain": [
       "                         mean      std\n",
       "Hardness         5.703796e-16  1.00018\n",
       "Solids           3.940594e-17  1.00018\n",
       "Chloramines     -1.620487e-16  1.00018\n",
       "Sulfate          4.951156e-17  1.00018\n",
       "Conductivity    -7.333252e-16  1.00018\n",
       "Organic_carbon  -3.281437e-16  1.00018\n",
       "Trihalomethanes  3.059990e-16  1.00018\n",
       "Turbidity       -2.713170e-16  1.00018"
      ]
     },
     "execution_count": 38,
     "metadata": {},
     "output_type": "execute_result"
    }
   ],
   "source": [
    "#Call `db_summary_scaled_df`'s `mean()` method\n",
    "df_summary_scaled_df.agg(['mean','std']).T"
   ]
  },
  {
   "cell_type": "markdown",
   "metadata": {},
   "source": [
    "- average is zero\n",
    "- all variables with the same standard deviation"
   ]
  },
  {
   "cell_type": "markdown",
   "metadata": {},
   "source": [
    "Checking unbiased standard deviation estimator (ddof = 1)"
   ]
  },
  {
   "cell_type": "code",
   "execution_count": 39,
   "metadata": {},
   "outputs": [
    {
     "data": {
      "text/plain": [
       "Hardness           1.0\n",
       "Solids             1.0\n",
       "Chloramines        1.0\n",
       "Sulfate            1.0\n",
       "Conductivity       1.0\n",
       "Organic_carbon     1.0\n",
       "Trihalomethanes    1.0\n",
       "Turbidity          1.0\n",
       "dtype: float64"
      ]
     },
     "execution_count": 39,
     "metadata": {},
     "output_type": "execute_result"
    }
   ],
   "source": [
    "#Repeat the previous call to `std()` but pass in ddof=0 \n",
    "df_summary_scaled_df.std(ddof=0)"
   ]
  },
  {
   "cell_type": "markdown",
   "metadata": {},
   "source": [
    "- STD = 1 as expected in a scaling"
   ]
  },
  {
   "cell_type": "markdown",
   "metadata": {},
   "source": [
    "### 2.2 Calculate the PCA transformation<a id='2.2_PCA_transformation'></a>"
   ]
  },
  {
   "cell_type": "markdown",
   "metadata": {},
   "source": [
    "Fit the PCA transformation using the scaled data."
   ]
  },
  {
   "cell_type": "code",
   "execution_count": 40,
   "metadata": {},
   "outputs": [],
   "source": [
    "df_pca = PCA().fit(df_summary_scale)"
   ]
  },
  {
   "cell_type": "markdown",
   "metadata": {},
   "source": [
    "Plot the cumulative variance ratio with number of components."
   ]
  },
  {
   "cell_type": "code",
   "execution_count": 41,
   "metadata": {},
   "outputs": [
    {
     "data": {
      "image/png": "[encoded data removed]",
      "text/plain": [
       "<Figure size 720x432 with 1 Axes>"
      ]
     },
     "metadata": {
      "needs_background": "light"
     },
     "output_type": "display_data"
    }
   ],
   "source": [
    "#Call the `cumsum()` method on the 'explained_variance_ratio_' attribute of `db_pca` and\n",
    "#create a line plot to visualize the cumulative explained variance ratio with number of components\n",
    "#Set the xlabel to 'Component #', the ylabel to 'Cumulative ratio variance', and the\n",
    "#title to 'Cumulative variance ratio explained by PCA components for state/resort summary statistics'\n",
    "#Hint: remember the handy ';' at the end of the last plot call to suppress that untidy output\n",
    "plt.subplots(figsize=(10, 6))\n",
    "plt.plot(df_pca.explained_variance_ratio_.cumsum())\n",
    "plt.xlabel('Component #')\n",
    "plt.ylabel('Cumulative ratio variance')\n",
    "plt.title('Cumulative variance ratio explained by PCA components for ph summary statistics');"
   ]
  },
  {
   "cell_type": "markdown",
   "metadata": {},
   "source": [
    "- There are no relevant components, all of them have the same influence in the variance."
   ]
  },
  {
   "cell_type": "markdown",
   "metadata": {},
   "source": [
    "Apply the transformation to the data to obtain the derived features."
   ]
  },
  {
   "cell_type": "code",
   "execution_count": 42,
   "metadata": {},
   "outputs": [],
   "source": [
    "#Call `db_pca`'s `transform()` method, passing in `db_summary_scale` as its argument\n",
    "df_pca_x = df_pca.transform(df_summary_scale)"
   ]
  },
  {
   "cell_type": "code",
   "execution_count": 43,
   "metadata": {},
   "outputs": [
    {
     "data": {
      "text/plain": [
       "(2785, 8)"
      ]
     },
     "execution_count": 43,
     "metadata": {},
     "output_type": "execute_result"
    }
   ],
   "source": [
    "df_pca_x.shape"
   ]
  },
  {
   "cell_type": "markdown",
   "metadata": {},
   "source": [
    "Plot the first two derived features (the first two principle components) and label each point."
   ]
  },
  {
   "cell_type": "code",
   "execution_count": 44,
   "metadata": {},
   "outputs": [
    {
     "data": {
      "text/plain": [
       "Text(0.5, 1.0, 'Water potability summary PCA, 26.9% variance explained')"
      ]
     },
     "execution_count": 44,
     "metadata": {},
     "output_type": "execute_result"
    },
    {
     "data": {
      "image/png": "[encoded data removed]",
      "text/plain": [
       "<Figure size 720x576 with 1 Axes>"
      ]
     },
     "metadata": {
      "needs_background": "light"
     },
     "output_type": "display_data"
    }
   ],
   "source": [
    "x = df_pca_x[:, 0]\n",
    "y = df_pca_x[:, 1]\n",
    "df_index = df_summary_index\n",
    "pc_var = 100 * df_pca.explained_variance_ratio_.cumsum()[1]\n",
    "plt.subplots(figsize=(10,8))\n",
    "plt.scatter(x=x, y=y)\n",
    "plt.xlabel('First component')\n",
    "plt.ylabel('Second component')\n",
    "plt.title(f'Water potability summary PCA, {pc_var:.1f}% variance explained')\n",
    "# for s, x, y in zip(water, x, y):\n",
    "#     plt.annotate(s, (x, y))"
   ]
  },
  {
   "cell_type": "markdown",
   "metadata": {},
   "source": [
    "How to interpret this graph? (ASK Preet)"
   ]
  },
  {
   "cell_type": "markdown",
   "metadata": {},
   "source": [
    "## 2.3 Potability by ph<a id='2.3_Average_target_by_descriptor'></a>"
   ]
  },
  {
   "cell_type": "markdown",
   "metadata": {},
   "source": [
    "Here, all point markers for the states are the same size and colour. You've visualized relationships between the states based on features such as the total skiable terrain area, but your ultimate interest lies in ticket prices. You know ticket prices for resorts in each state, so it might be interesting to see if there's any pattern there."
   ]
  },
  {
   "cell_type": "code",
   "execution_count": 45,
   "metadata": {},
   "outputs": [
    {
     "data": {
      "text/html": [
       "<div>\n",
       "<style scoped>\n",
       "    .dataframe tbody tr th:only-of-type {\n",
       "        vertical-align: middle;\n",
       "    }\n",
       "\n",
       "    .dataframe tbody tr th {\n",
       "        vertical-align: top;\n",
       "    }\n",
       "\n",
       "    .dataframe thead th {\n",
       "        text-align: right;\n",
       "    }\n",
       "</style>\n",
       "<table border=\"1\" class=\"dataframe\">\n",
       "  <thead>\n",
       "    <tr style=\"text-align: right;\">\n",
       "      <th></th>\n",
       "      <th>ph</th>\n",
       "      <th>Hardness</th>\n",
       "      <th>Solids</th>\n",
       "      <th>Chloramines</th>\n",
       "      <th>Sulfate</th>\n",
       "      <th>Conductivity</th>\n",
       "      <th>Organic_carbon</th>\n",
       "      <th>Trihalomethanes</th>\n",
       "      <th>Turbidity</th>\n",
       "      <th>Potability</th>\n",
       "    </tr>\n",
       "  </thead>\n",
       "  <tbody>\n",
       "    <tr>\n",
       "      <th>0</th>\n",
       "      <td>NaN</td>\n",
       "      <td>204.890455</td>\n",
       "      <td>20791.318981</td>\n",
       "      <td>7.300212</td>\n",
       "      <td>368.516441</td>\n",
       "      <td>564.308654</td>\n",
       "      <td>10.379783</td>\n",
       "      <td>86.990970</td>\n",
       "      <td>2.963135</td>\n",
       "      <td>0</td>\n",
       "    </tr>\n",
       "    <tr>\n",
       "      <th>1</th>\n",
       "      <td>3.716080</td>\n",
       "      <td>129.422921</td>\n",
       "      <td>18630.057858</td>\n",
       "      <td>6.635246</td>\n",
       "      <td>NaN</td>\n",
       "      <td>592.885359</td>\n",
       "      <td>15.180013</td>\n",
       "      <td>56.329076</td>\n",
       "      <td>4.500656</td>\n",
       "      <td>0</td>\n",
       "    </tr>\n",
       "    <tr>\n",
       "      <th>2</th>\n",
       "      <td>8.099124</td>\n",
       "      <td>224.236259</td>\n",
       "      <td>19909.541732</td>\n",
       "      <td>9.275884</td>\n",
       "      <td>NaN</td>\n",
       "      <td>418.606213</td>\n",
       "      <td>16.868637</td>\n",
       "      <td>66.420093</td>\n",
       "      <td>3.055934</td>\n",
       "      <td>0</td>\n",
       "    </tr>\n",
       "    <tr>\n",
       "      <th>3</th>\n",
       "      <td>8.316766</td>\n",
       "      <td>214.373394</td>\n",
       "      <td>22018.417441</td>\n",
       "      <td>8.059332</td>\n",
       "      <td>356.886136</td>\n",
       "      <td>363.266516</td>\n",
       "      <td>18.436524</td>\n",
       "      <td>100.341674</td>\n",
       "      <td>4.628771</td>\n",
       "      <td>0</td>\n",
       "    </tr>\n",
       "    <tr>\n",
       "      <th>4</th>\n",
       "      <td>9.092223</td>\n",
       "      <td>181.101509</td>\n",
       "      <td>17978.986339</td>\n",
       "      <td>6.546600</td>\n",
       "      <td>310.135738</td>\n",
       "      <td>398.410813</td>\n",
       "      <td>11.558279</td>\n",
       "      <td>31.997993</td>\n",
       "      <td>4.075075</td>\n",
       "      <td>0</td>\n",
       "    </tr>\n",
       "  </tbody>\n",
       "</table>\n",
       "</div>"
      ],
      "text/plain": [
       "         ph    Hardness        Solids  Chloramines     Sulfate  Conductivity  \\\n",
       "0       NaN  204.890455  20791.318981     7.300212  368.516441    564.308654   \n",
       "1  3.716080  129.422921  18630.057858     6.635246         NaN    592.885359   \n",
       "2  8.099124  224.236259  19909.541732     9.275884         NaN    418.606213   \n",
       "3  8.316766  214.373394  22018.417441     8.059332  356.886136    363.266516   \n",
       "4  9.092223  181.101509  17978.986339     6.546600  310.135738    398.410813   \n",
       "\n",
       "   Organic_carbon  Trihalomethanes  Turbidity  Potability  \n",
       "0       10.379783        86.990970   2.963135           0  \n",
       "1       15.180013        56.329076   4.500656           0  \n",
       "2       16.868637        66.420093   3.055934           0  \n",
       "3       18.436524       100.341674   4.628771           0  \n",
       "4       11.558279        31.997993   4.075075           0  "
      ]
     },
     "execution_count": 45,
     "metadata": {},
     "output_type": "execute_result"
    }
   ],
   "source": [
    "water.head()"
   ]
  },
  {
   "cell_type": "code",
   "execution_count": 46,
   "metadata": {},
   "outputs": [
    {
     "data": {
      "text/plain": [
       "ph\n",
       "7.036752    1\n",
       "6.008974    1\n",
       "6.019940    1\n",
       "6.017261    1\n",
       "7.511817    1\n",
       "Name: Potability, dtype: int64"
      ]
     },
     "execution_count": 46,
     "metadata": {},
     "output_type": "execute_result"
    }
   ],
   "source": [
    "#Calculate the average 'Potability' by state\n",
    "water_avg_potability = water.groupby('ph')['Potability'].mean()\n",
    "water_avg_potability.sort_values(ascending=False).head()"
   ]
  },
  {
   "cell_type": "code",
   "execution_count": 47,
   "metadata": {},
   "outputs": [
    {
     "data": {
      "text/plain": [
       "ph\n",
       "0.000000    0\n",
       "7.455541    0\n",
       "7.451889    0\n",
       "7.446089    0\n",
       "7.445189    0\n",
       "Name: Potability, dtype: int64"
      ]
     },
     "execution_count": 47,
     "metadata": {},
     "output_type": "execute_result"
    }
   ],
   "source": [
    "water_avg_potability.sort_values().head()"
   ]
  },
  {
   "cell_type": "code",
   "execution_count": 48,
   "metadata": {},
   "outputs": [
    {
     "data": {
      "image/png": "[encoded data removed]",
      "text/plain": [
       "<Figure size 432x288 with 1 Axes>"
      ]
     },
     "metadata": {
      "needs_background": "light"
     },
     "output_type": "display_data"
    }
   ],
   "source": [
    "water_avg_potability.hist(bins=30)\n",
    "plt.title('Distribution of potability')\n",
    "plt.xlabel('Potability')\n",
    "plt.ylabel('count');"
   ]
  },
  {
   "cell_type": "markdown",
   "metadata": {},
   "source": [
    "## 2.4 Adding potability to scatter plot<a id='2.4_Adding_average_target_to_scatter_plot'></a>"
   ]
  },
  {
   "cell_type": "code",
   "execution_count": 49,
   "metadata": {},
   "outputs": [
    {
     "data": {
      "text/html": [
       "<div>\n",
       "<style scoped>\n",
       "    .dataframe tbody tr th:only-of-type {\n",
       "        vertical-align: middle;\n",
       "    }\n",
       "\n",
       "    .dataframe tbody tr th {\n",
       "        vertical-align: top;\n",
       "    }\n",
       "\n",
       "    .dataframe thead th {\n",
       "        text-align: right;\n",
       "    }\n",
       "</style>\n",
       "<table border=\"1\" class=\"dataframe\">\n",
       "  <thead>\n",
       "    <tr style=\"text-align: right;\">\n",
       "      <th></th>\n",
       "      <th>PC1</th>\n",
       "      <th>PC2</th>\n",
       "    </tr>\n",
       "    <tr>\n",
       "      <th>ph</th>\n",
       "      <th></th>\n",
       "      <th></th>\n",
       "    </tr>\n",
       "  </thead>\n",
       "  <tbody>\n",
       "    <tr>\n",
       "      <th>0.000000</th>\n",
       "      <td>2.689277</td>\n",
       "      <td>-2.448561</td>\n",
       "    </tr>\n",
       "    <tr>\n",
       "      <th>0.227499</th>\n",
       "      <td>2.683700</td>\n",
       "      <td>0.197390</td>\n",
       "    </tr>\n",
       "    <tr>\n",
       "      <th>0.975578</th>\n",
       "      <td>0.602541</td>\n",
       "      <td>3.081052</td>\n",
       "    </tr>\n",
       "    <tr>\n",
       "      <th>0.989912</th>\n",
       "      <td>-0.509507</td>\n",
       "      <td>-2.027928</td>\n",
       "    </tr>\n",
       "    <tr>\n",
       "      <th>1.431782</th>\n",
       "      <td>-0.080945</td>\n",
       "      <td>-0.160874</td>\n",
       "    </tr>\n",
       "  </tbody>\n",
       "</table>\n",
       "</div>"
      ],
      "text/plain": [
       "               PC1       PC2\n",
       "ph                          \n",
       "0.000000  2.689277 -2.448561\n",
       "0.227499  2.683700  0.197390\n",
       "0.975578  0.602541  3.081052\n",
       "0.989912 -0.509507 -2.027928\n",
       "1.431782 -0.080945 -0.160874"
      ]
     },
     "execution_count": 49,
     "metadata": {},
     "output_type": "execute_result"
    }
   ],
   "source": [
    "#Create a dataframe containing the values of the first two PCA components\n",
    "#Remember the first component was given by db_pca_x[:, 0],\n",
    "#and the second by db_pca_x[:, 1]\n",
    "#Call these 'PC1' and 'PC2', respectively and set the dataframe index to `db_summary_index`\n",
    "pca_df = pd.DataFrame({'PC1': df_pca_x[:, 0], 'PC2': df_pca_x[:, 1]}, index=df_summary_index)\n",
    "pca_df.head()"
   ]
  },
  {
   "cell_type": "code",
   "execution_count": 50,
   "metadata": {},
   "outputs": [
    {
     "data": {
      "text/plain": [
       "ph\n",
       "0.000000    0\n",
       "0.227499    1\n",
       "0.975578    0\n",
       "0.989912    1\n",
       "1.431782    0\n",
       "Name: Potability, dtype: int64"
      ]
     },
     "execution_count": 50,
     "metadata": {},
     "output_type": "execute_result"
    }
   ],
   "source": [
    "# our average state prices also have state as an index\n",
    "water_avg_potability.head()"
   ]
  },
  {
   "cell_type": "code",
   "execution_count": 51,
   "metadata": {},
   "outputs": [
    {
     "data": {
      "text/html": [
       "<div>\n",
       "<style scoped>\n",
       "    .dataframe tbody tr th:only-of-type {\n",
       "        vertical-align: middle;\n",
       "    }\n",
       "\n",
       "    .dataframe tbody tr th {\n",
       "        vertical-align: top;\n",
       "    }\n",
       "\n",
       "    .dataframe thead th {\n",
       "        text-align: right;\n",
       "    }\n",
       "</style>\n",
       "<table border=\"1\" class=\"dataframe\">\n",
       "  <thead>\n",
       "    <tr style=\"text-align: right;\">\n",
       "      <th></th>\n",
       "      <th>Potability</th>\n",
       "    </tr>\n",
       "    <tr>\n",
       "      <th>ph</th>\n",
       "      <th></th>\n",
       "    </tr>\n",
       "  </thead>\n",
       "  <tbody>\n",
       "    <tr>\n",
       "      <th>0.000000</th>\n",
       "      <td>0</td>\n",
       "    </tr>\n",
       "    <tr>\n",
       "      <th>0.227499</th>\n",
       "      <td>1</td>\n",
       "    </tr>\n",
       "    <tr>\n",
       "      <th>0.975578</th>\n",
       "      <td>0</td>\n",
       "    </tr>\n",
       "    <tr>\n",
       "      <th>0.989912</th>\n",
       "      <td>1</td>\n",
       "    </tr>\n",
       "    <tr>\n",
       "      <th>1.431782</th>\n",
       "      <td>0</td>\n",
       "    </tr>\n",
       "  </tbody>\n",
       "</table>\n",
       "</div>"
      ],
      "text/plain": [
       "          Potability\n",
       "ph                  \n",
       "0.000000           0\n",
       "0.227499           1\n",
       "0.975578           0\n",
       "0.989912           1\n",
       "1.431782           0"
      ]
     },
     "execution_count": 51,
     "metadata": {},
     "output_type": "execute_result"
    }
   ],
   "source": [
    "# we can also cast it to a dataframe using Series' to_frame() method:\n",
    "water_avg_potability.to_frame().head()"
   ]
  },
  {
   "cell_type": "markdown",
   "metadata": {},
   "source": [
    "Concatenating both parts on axis 1 and using the indexes."
   ]
  },
  {
   "cell_type": "code",
   "execution_count": 52,
   "metadata": {},
   "outputs": [
    {
     "data": {
      "text/html": [
       "<div>\n",
       "<style scoped>\n",
       "    .dataframe tbody tr th:only-of-type {\n",
       "        vertical-align: middle;\n",
       "    }\n",
       "\n",
       "    .dataframe tbody tr th {\n",
       "        vertical-align: top;\n",
       "    }\n",
       "\n",
       "    .dataframe thead th {\n",
       "        text-align: right;\n",
       "    }\n",
       "</style>\n",
       "<table border=\"1\" class=\"dataframe\">\n",
       "  <thead>\n",
       "    <tr style=\"text-align: right;\">\n",
       "      <th></th>\n",
       "      <th>PC1</th>\n",
       "      <th>PC2</th>\n",
       "      <th>Potability</th>\n",
       "    </tr>\n",
       "    <tr>\n",
       "      <th>ph</th>\n",
       "      <th></th>\n",
       "      <th></th>\n",
       "      <th></th>\n",
       "    </tr>\n",
       "  </thead>\n",
       "  <tbody>\n",
       "    <tr>\n",
       "      <th>0.000000</th>\n",
       "      <td>2.689277</td>\n",
       "      <td>-2.448561</td>\n",
       "      <td>0</td>\n",
       "    </tr>\n",
       "    <tr>\n",
       "      <th>0.227499</th>\n",
       "      <td>2.683700</td>\n",
       "      <td>0.197390</td>\n",
       "      <td>1</td>\n",
       "    </tr>\n",
       "    <tr>\n",
       "      <th>0.975578</th>\n",
       "      <td>0.602541</td>\n",
       "      <td>3.081052</td>\n",
       "      <td>0</td>\n",
       "    </tr>\n",
       "    <tr>\n",
       "      <th>0.989912</th>\n",
       "      <td>-0.509507</td>\n",
       "      <td>-2.027928</td>\n",
       "      <td>1</td>\n",
       "    </tr>\n",
       "    <tr>\n",
       "      <th>1.431782</th>\n",
       "      <td>-0.080945</td>\n",
       "      <td>-0.160874</td>\n",
       "      <td>0</td>\n",
       "    </tr>\n",
       "  </tbody>\n",
       "</table>\n",
       "</div>"
      ],
      "text/plain": [
       "               PC1       PC2  Potability\n",
       "ph                                      \n",
       "0.000000  2.689277 -2.448561           0\n",
       "0.227499  2.683700  0.197390           1\n",
       "0.975578  0.602541  3.081052           0\n",
       "0.989912 -0.509507 -2.027928           1\n",
       "1.431782 -0.080945 -0.160874           0"
      ]
     },
     "execution_count": 52,
     "metadata": {},
     "output_type": "execute_result"
    }
   ],
   "source": [
    "#Use pd.concat to concatenate `pca_df` and `db_avg_price` along axis 1\n",
    "# remember, pd.concat will align on index\n",
    "pca_df = pd.concat([pca_df, water_avg_potability], axis=1)\n",
    "pca_df.head()"
   ]
  },
  {
   "cell_type": "code",
   "execution_count": 53,
   "metadata": {},
   "outputs": [
    {
     "data": {
      "text/plain": [
       "PC1           float64\n",
       "PC2           float64\n",
       "Potability      int64\n",
       "dtype: object"
      ]
     },
     "execution_count": 53,
     "metadata": {},
     "output_type": "execute_result"
    }
   ],
   "source": [
    "pca_df.dtypes"
   ]
  },
  {
   "cell_type": "markdown",
   "metadata": {},
   "source": [
    "Checking for missing values"
   ]
  },
  {
   "cell_type": "code",
   "execution_count": 54,
   "metadata": {},
   "outputs": [
    {
     "data": {
      "text/html": [
       "<div>\n",
       "<style scoped>\n",
       "    .dataframe tbody tr th:only-of-type {\n",
       "        vertical-align: middle;\n",
       "    }\n",
       "\n",
       "    .dataframe tbody tr th {\n",
       "        vertical-align: top;\n",
       "    }\n",
       "\n",
       "    .dataframe thead th {\n",
       "        text-align: right;\n",
       "    }\n",
       "</style>\n",
       "<table border=\"1\" class=\"dataframe\">\n",
       "  <thead>\n",
       "    <tr style=\"text-align: right;\">\n",
       "      <th></th>\n",
       "      <th>PC1</th>\n",
       "      <th>PC2</th>\n",
       "      <th>Potability</th>\n",
       "    </tr>\n",
       "    <tr>\n",
       "      <th>ph</th>\n",
       "      <th></th>\n",
       "      <th></th>\n",
       "      <th></th>\n",
       "    </tr>\n",
       "  </thead>\n",
       "  <tbody>\n",
       "  </tbody>\n",
       "</table>\n",
       "</div>"
      ],
      "text/plain": [
       "Empty DataFrame\n",
       "Columns: [PC1, PC2, Potability]\n",
       "Index: []"
      ]
     },
     "execution_count": 54,
     "metadata": {},
     "output_type": "execute_result"
    }
   ],
   "source": [
    "pca_df[pca_df.isnull().any(axis=1)]"
   ]
  },
  {
   "cell_type": "markdown",
   "metadata": {},
   "source": [
    "- No missing values"
   ]
  },
  {
   "cell_type": "code",
   "execution_count": 55,
   "metadata": {},
   "outputs": [
    {
     "data": {
      "text/plain": [
       "Text(0.5, 1.0, 'Water potability summary PCA, 26.9% variance explained')"
      ]
     },
     "execution_count": 55,
     "metadata": {},
     "output_type": "execute_result"
    },
    {
     "data": {
      "image/png": "[encoded data removed]",
      "text/plain": [
       "<Figure size 720x576 with 1 Axes>"
      ]
     },
     "metadata": {
      "needs_background": "light"
     },
     "output_type": "display_data"
    }
   ],
   "source": [
    "x = pca_df.PC1\n",
    "y = pca_df.PC2\n",
    "potability = pca_df.Potability\n",
    "ph = pca_df.index\n",
    "pc_var = 100 * df_pca.explained_variance_ratio_.cumsum()[1]\n",
    "fig, ax = plt.subplots(figsize=(10,8))\n",
    "for p in [0, 1]:\n",
    "    im = potability == p\n",
    "    ax.scatter(x=x[im], y=y[im], label=p)\n",
    "ax.set_xlabel('First component')\n",
    "ax.set_ylabel('Second component')\n",
    "plt.legend()\n",
    "ax.set_title(f'Water potability summary PCA, {pc_var:.1f}% variance explained')\n",
    "# for s, x, y in zip(ph, x, y):\n",
    "#     plt.annotate(s, (x, y))"
   ]
  },
  {
   "cell_type": "markdown",
   "metadata": {},
   "source": [
    "- Adding the potability to the scatterplot didn't reveal any clustering."
   ]
  },
  {
   "cell_type": "markdown",
   "metadata": {},
   "source": [
    "A much more concise way to do the same above using seaborn."
   ]
  },
  {
   "cell_type": "code",
   "execution_count": 56,
   "metadata": {},
   "outputs": [
    {
     "data": {
      "image/png": "[encoded data removed]",
      "text/plain": [
       "<Figure size 864x720 with 1 Axes>"
      ]
     },
     "metadata": {
      "needs_background": "light"
     },
     "output_type": "display_data"
    }
   ],
   "source": [
    "# Create a seaborn scatterplot by calling `sns.scatterplot`\n",
    "# Specify the dataframe pca_df as the source of the data,\n",
    "# specify 'PC1' for x and 'PC2' for y,\n",
    "# specify 'target' for the pointsize (scatterplot's `size` argument),\n",
    "# specify 'catergories' foar `hue`\n",
    "# specify sorter for `hue_order`\n",
    "x = pca_df.PC1\n",
    "y = pca_df.PC2\n",
    "ph = pca_df.index\n",
    "plt.subplots(figsize=(12, 10))\n",
    "# Note the argument below to make sure we get the colours in the ascending\n",
    "# order we intuitively expect!\n",
    "sns.scatterplot(x='PC1', y='PC2', hue='Potability', data=pca_df, hue_order=pca_df.Potability.sort_values(ascending=True).unique())\n",
    "# sns.scatterplot(x='PC1', y='PC2', size='Potability', hue='Quartile', \n",
    "#                 hue_order=pca_df.Quartile.cat.categories, data=pca_df)\n",
    "#if the amount of data allows, annotate with the labels\n",
    "# for s, x, y in zip(ph, x, y):\n",
    "#     plt.annotate(s, (x, y))   \n",
    "plt.title(f'Ski states summary PCA, {pc_var:.1f}% variance explained');"
   ]
  },
  {
   "cell_type": "code",
   "execution_count": 57,
   "metadata": {},
   "outputs": [
    {
     "data": {
      "text/html": [
       "<div>\n",
       "<style scoped>\n",
       "    .dataframe tbody tr th:only-of-type {\n",
       "        vertical-align: middle;\n",
       "    }\n",
       "\n",
       "    .dataframe tbody tr th {\n",
       "        vertical-align: top;\n",
       "    }\n",
       "\n",
       "    .dataframe thead th {\n",
       "        text-align: right;\n",
       "    }\n",
       "</style>\n",
       "<table border=\"1\" class=\"dataframe\">\n",
       "  <thead>\n",
       "    <tr style=\"text-align: right;\">\n",
       "      <th></th>\n",
       "      <th>Hardness</th>\n",
       "      <th>Solids</th>\n",
       "      <th>Chloramines</th>\n",
       "      <th>Sulfate</th>\n",
       "      <th>Conductivity</th>\n",
       "      <th>Organic_carbon</th>\n",
       "      <th>Trihalomethanes</th>\n",
       "      <th>Turbidity</th>\n",
       "    </tr>\n",
       "  </thead>\n",
       "  <tbody>\n",
       "    <tr>\n",
       "      <th>0</th>\n",
       "      <td>-0.184396</td>\n",
       "      <td>0.686851</td>\n",
       "      <td>-0.525234</td>\n",
       "      <td>-0.146782</td>\n",
       "      <td>0.210188</td>\n",
       "      <td>-0.035339</td>\n",
       "      <td>-0.273026</td>\n",
       "      <td>0.277213</td>\n",
       "    </tr>\n",
       "    <tr>\n",
       "      <th>1</th>\n",
       "      <td>0.457202</td>\n",
       "      <td>-0.055744</td>\n",
       "      <td>-0.391116</td>\n",
       "      <td>0.135021</td>\n",
       "      <td>-0.119596</td>\n",
       "      <td>0.608607</td>\n",
       "      <td>-0.312300</td>\n",
       "      <td>-0.366633</td>\n",
       "    </tr>\n",
       "    <tr>\n",
       "      <th>2</th>\n",
       "      <td>0.512984</td>\n",
       "      <td>-0.061175</td>\n",
       "      <td>-0.110782</td>\n",
       "      <td>-0.723762</td>\n",
       "      <td>0.303648</td>\n",
       "      <td>-0.130514</td>\n",
       "      <td>0.289724</td>\n",
       "      <td>-0.061845</td>\n",
       "    </tr>\n",
       "    <tr>\n",
       "      <th>3</th>\n",
       "      <td>0.398293</td>\n",
       "      <td>-0.050292</td>\n",
       "      <td>0.053923</td>\n",
       "      <td>-0.115527</td>\n",
       "      <td>-0.583921</td>\n",
       "      <td>-0.362145</td>\n",
       "      <td>-0.453821</td>\n",
       "      <td>0.380148</td>\n",
       "    </tr>\n",
       "    <tr>\n",
       "      <th>4</th>\n",
       "      <td>-0.149285</td>\n",
       "      <td>0.330785</td>\n",
       "      <td>-0.142450</td>\n",
       "      <td>-0.140385</td>\n",
       "      <td>-0.556967</td>\n",
       "      <td>-0.263960</td>\n",
       "      <td>0.262310</td>\n",
       "      <td>-0.616119</td>\n",
       "    </tr>\n",
       "    <tr>\n",
       "      <th>5</th>\n",
       "      <td>-0.197923</td>\n",
       "      <td>0.140001</td>\n",
       "      <td>0.538454</td>\n",
       "      <td>-0.402197</td>\n",
       "      <td>0.140878</td>\n",
       "      <td>0.121418</td>\n",
       "      <td>-0.583876</td>\n",
       "      <td>-0.337684</td>\n",
       "    </tr>\n",
       "    <tr>\n",
       "      <th>6</th>\n",
       "      <td>0.057085</td>\n",
       "      <td>-0.259081</td>\n",
       "      <td>-0.265330</td>\n",
       "      <td>0.273703</td>\n",
       "      <td>0.382374</td>\n",
       "      <td>-0.620608</td>\n",
       "      <td>-0.334065</td>\n",
       "      <td>-0.375953</td>\n",
       "    </tr>\n",
       "    <tr>\n",
       "      <th>7</th>\n",
       "      <td>0.520054</td>\n",
       "      <td>0.568080</td>\n",
       "      <td>0.418752</td>\n",
       "      <td>0.408243</td>\n",
       "      <td>0.179118</td>\n",
       "      <td>-0.102928</td>\n",
       "      <td>0.129287</td>\n",
       "      <td>-0.073634</td>\n",
       "    </tr>\n",
       "  </tbody>\n",
       "</table>\n",
       "</div>"
      ],
      "text/plain": [
       "   Hardness    Solids  Chloramines   Sulfate  Conductivity  Organic_carbon  \\\n",
       "0 -0.184396  0.686851    -0.525234 -0.146782      0.210188       -0.035339   \n",
       "1  0.457202 -0.055744    -0.391116  0.135021     -0.119596        0.608607   \n",
       "2  0.512984 -0.061175    -0.110782 -0.723762      0.303648       -0.130514   \n",
       "3  0.398293 -0.050292     0.053923 -0.115527     -0.583921       -0.362145   \n",
       "4 -0.149285  0.330785    -0.142450 -0.140385     -0.556967       -0.263960   \n",
       "5 -0.197923  0.140001     0.538454 -0.402197      0.140878        0.121418   \n",
       "6  0.057085 -0.259081    -0.265330  0.273703      0.382374       -0.620608   \n",
       "7  0.520054  0.568080     0.418752  0.408243      0.179118       -0.102928   \n",
       "\n",
       "   Trihalomethanes  Turbidity  \n",
       "0        -0.273026   0.277213  \n",
       "1        -0.312300  -0.366633  \n",
       "2         0.289724  -0.061845  \n",
       "3        -0.453821   0.380148  \n",
       "4         0.262310  -0.616119  \n",
       "5        -0.583876  -0.337684  \n",
       "6        -0.334065  -0.375953  \n",
       "7         0.129287  -0.073634  "
      ]
     },
     "execution_count": 57,
     "metadata": {},
     "output_type": "execute_result"
    }
   ],
   "source": [
    "pd.DataFrame(df_pca.components_, columns=df_summary_columns)"
   ]
  },
  {
   "cell_type": "markdown",
   "metadata": {},
   "source": [
    "- No expressive values could be found in the components of the PCA."
   ]
  },
  {
   "cell_type": "markdown",
   "metadata": {},
   "source": [
    "### 2.5.1 Numeric Data<a id='2.5.1_Numeric_Data'></a>"
   ]
  },
  {
   "cell_type": "markdown",
   "metadata": {},
   "source": [
    "#### 2.5.1.1 Feature engineering<a id='3.5.5.1_Feature_engineering'></a>"
   ]
  },
  {
   "cell_type": "code",
   "execution_count": 58,
   "metadata": {},
   "outputs": [
    {
     "data": {
      "text/html": [
       "<div>\n",
       "<style scoped>\n",
       "    .dataframe tbody tr th:only-of-type {\n",
       "        vertical-align: middle;\n",
       "    }\n",
       "\n",
       "    .dataframe tbody tr th {\n",
       "        vertical-align: top;\n",
       "    }\n",
       "\n",
       "    .dataframe thead th {\n",
       "        text-align: right;\n",
       "    }\n",
       "</style>\n",
       "<table border=\"1\" class=\"dataframe\">\n",
       "  <thead>\n",
       "    <tr style=\"text-align: right;\">\n",
       "      <th></th>\n",
       "      <th>Hardness</th>\n",
       "      <th>Solids</th>\n",
       "      <th>Chloramines</th>\n",
       "      <th>Sulfate</th>\n",
       "      <th>Conductivity</th>\n",
       "      <th>Organic_carbon</th>\n",
       "      <th>Trihalomethanes</th>\n",
       "      <th>Turbidity</th>\n",
       "    </tr>\n",
       "    <tr>\n",
       "      <th>ph</th>\n",
       "      <th></th>\n",
       "      <th></th>\n",
       "      <th></th>\n",
       "      <th></th>\n",
       "      <th></th>\n",
       "      <th></th>\n",
       "      <th></th>\n",
       "      <th></th>\n",
       "    </tr>\n",
       "  </thead>\n",
       "  <tbody>\n",
       "    <tr>\n",
       "      <th>0.000000</th>\n",
       "      <td>214.846144</td>\n",
       "      <td>49456.587108</td>\n",
       "      <td>7.897539</td>\n",
       "      <td>0.000000</td>\n",
       "      <td>583.448849</td>\n",
       "      <td>7.702328</td>\n",
       "      <td>77.712891</td>\n",
       "      <td>4.928840</td>\n",
       "    </tr>\n",
       "    <tr>\n",
       "      <th>0.227499</th>\n",
       "      <td>152.530111</td>\n",
       "      <td>39028.599340</td>\n",
       "      <td>3.462492</td>\n",
       "      <td>283.693782</td>\n",
       "      <td>443.029232</td>\n",
       "      <td>13.201943</td>\n",
       "      <td>62.322711</td>\n",
       "      <td>3.545741</td>\n",
       "    </tr>\n",
       "    <tr>\n",
       "      <th>0.975578</th>\n",
       "      <td>221.204114</td>\n",
       "      <td>31145.110739</td>\n",
       "      <td>7.615583</td>\n",
       "      <td>333.677843</td>\n",
       "      <td>439.112765</td>\n",
       "      <td>21.145954</td>\n",
       "      <td>0.000000</td>\n",
       "      <td>2.533996</td>\n",
       "    </tr>\n",
       "    <tr>\n",
       "      <th>0.989912</th>\n",
       "      <td>133.216942</td>\n",
       "      <td>16922.853899</td>\n",
       "      <td>9.293289</td>\n",
       "      <td>444.375731</td>\n",
       "      <td>322.291191</td>\n",
       "      <td>10.430076</td>\n",
       "      <td>43.578466</td>\n",
       "      <td>5.160604</td>\n",
       "    </tr>\n",
       "    <tr>\n",
       "      <th>1.431782</th>\n",
       "      <td>228.130383</td>\n",
       "      <td>12937.246891</td>\n",
       "      <td>6.214773</td>\n",
       "      <td>319.734136</td>\n",
       "      <td>495.379883</td>\n",
       "      <td>12.033344</td>\n",
       "      <td>61.141119</td>\n",
       "      <td>4.948443</td>\n",
       "    </tr>\n",
       "  </tbody>\n",
       "</table>\n",
       "</div>"
      ],
      "text/plain": [
       "            Hardness        Solids  Chloramines     Sulfate  Conductivity  \\\n",
       "ph                                                                          \n",
       "0.000000  214.846144  49456.587108     7.897539    0.000000    583.448849   \n",
       "0.227499  152.530111  39028.599340     3.462492  283.693782    443.029232   \n",
       "0.975578  221.204114  31145.110739     7.615583  333.677843    439.112765   \n",
       "0.989912  133.216942  16922.853899     9.293289  444.375731    322.291191   \n",
       "1.431782  228.130383  12937.246891     6.214773  319.734136    495.379883   \n",
       "\n",
       "          Organic_carbon  Trihalomethanes  Turbidity  \n",
       "ph                                                    \n",
       "0.000000        7.702328        77.712891   4.928840  \n",
       "0.227499       13.201943        62.322711   3.545741  \n",
       "0.975578       21.145954         0.000000   2.533996  \n",
       "0.989912       10.430076        43.578466   5.160604  \n",
       "1.431782       12.033344        61.141119   4.948443  "
      ]
     },
     "execution_count": 58,
     "metadata": {},
     "output_type": "execute_result"
    }
   ],
   "source": [
    "water_summary.head()"
   ]
  },
  {
   "cell_type": "markdown",
   "metadata": {},
   "source": [
    "- No obvious derived metric can be calculated."
   ]
  },
  {
   "cell_type": "markdown",
   "metadata": {},
   "source": [
    "#### 3.5.5.2 Feature correlation heatmap<a id='3.5.5.2_Feature_correlation_heatmap'></a>"
   ]
  },
  {
   "cell_type": "markdown",
   "metadata": {},
   "source": [
    "A great way to gain a high level view of relationships amongst the features."
   ]
  },
  {
   "cell_type": "code",
   "execution_count": 59,
   "metadata": {},
   "outputs": [
    {
     "data": {
      "image/png": "[encoded data removed]",
      "text/plain": [
       "<Figure size 864x720 with 2 Axes>"
      ]
     },
     "metadata": {
      "needs_background": "light"
     },
     "output_type": "display_data"
    }
   ],
   "source": [
    "#Show a seaborn heatmap of correlations in data\n",
    "#Hint: call pandas' `corr()` method on `data` and pass that into `sns.heatmap`\n",
    "plt.subplots(figsize=(12,10))\n",
    "sns.heatmap(water.corr(), annot = True);"
   ]
  },
  {
   "cell_type": "markdown",
   "metadata": {},
   "source": [
    "- No strog correlations could be found in the data set."
   ]
  },
  {
   "cell_type": "markdown",
   "metadata": {},
   "source": [
    "#### 3.5.5.3 Scatterplots of numeric features against Potability<a id='3.5.5.3_Scatterplots_of_numeric_features_against_ticket_price'></a>"
   ]
  },
  {
   "cell_type": "code",
   "execution_count": 60,
   "metadata": {},
   "outputs": [],
   "source": [
    "# define useful function to create scatterplots of ticket prices against desired columns\n",
    "def scatterplots(columns, ncol=None, figsize=(15, 8)):\n",
    "    if ncol is None:\n",
    "        ncol = len(columns)\n",
    "    nrow = int(np.ceil(len(columns) / ncol))\n",
    "    fig, axes = plt.subplots(nrow, ncol, figsize=figsize, squeeze=False)\n",
    "    fig.subplots_adjust(wspace=0.5, hspace=0.6)\n",
    "    for i, col in enumerate(columns):\n",
    "        ax = axes.flatten()[i]\n",
    "        ax.scatter(x = col, y = 'Potability', data=water, alpha=0.5)\n",
    "        ax.set(xlabel=col, ylabel='Potability')\n",
    "    nsubplots = nrow * ncol    \n",
    "    for empty in range(i+1, nsubplots):\n",
    "        axes.flatten()[empty].set_visible(False)"
   ]
  },
  {
   "cell_type": "code",
   "execution_count": 61,
   "metadata": {},
   "outputs": [],
   "source": [
    "#Use a list comprehension to build a list of features from the columns of `ski_data` that\n",
    "#are _not_ any of 'Name', 'Region', 'state', or 'AdultWeekend'\n",
    "# features = [f for f in water.columns if f not in ['Name', 'Region', 'state', 'AdultWeekend']]\n",
    "features = [f for f in water.columns if f not in ['Potability']]"
   ]
  },
  {
   "cell_type": "code",
   "execution_count": 62,
   "metadata": {},
   "outputs": [
    {
     "data": {
      "image/png": "[encoded data removed]",
      "text/plain": [
       "<Figure size 1080x1080 with 12 Axes>"
      ]
     },
     "metadata": {
      "needs_background": "light"
     },
     "output_type": "display_data"
    }
   ],
   "source": [
    "scatterplots(features, ncol=4, figsize=(15, 15))"
   ]
  },
  {
   "cell_type": "markdown",
   "metadata": {},
   "source": [
    "- The scatterplots don't show any significant split in the data."
   ]
  },
  {
   "cell_type": "markdown",
   "metadata": {},
   "source": [
    "## 3.6 Summary<a id='3.6_Summary'></a>"
   ]
  },
  {
   "cell_type": "markdown",
   "metadata": {},
   "source": [
    "So far, we couldn't find classifiers to define the water as potable.\n",
    "\n",
    "- Numerical: 10\n",
    "\n",
    "- Categorical: 0"
   ]
  },
  {
   "cell_type": "code",
   "execution_count": 63,
   "metadata": {},
   "outputs": [
    {
     "data": {
      "text/html": [
       "<div>\n",
       "<style scoped>\n",
       "    .dataframe tbody tr th:only-of-type {\n",
       "        vertical-align: middle;\n",
       "    }\n",
       "\n",
       "    .dataframe tbody tr th {\n",
       "        vertical-align: top;\n",
       "    }\n",
       "\n",
       "    .dataframe thead th {\n",
       "        text-align: right;\n",
       "    }\n",
       "</style>\n",
       "<table border=\"1\" class=\"dataframe\">\n",
       "  <thead>\n",
       "    <tr style=\"text-align: right;\">\n",
       "      <th></th>\n",
       "      <th>0</th>\n",
       "      <th>1</th>\n",
       "      <th>2</th>\n",
       "      <th>3</th>\n",
       "      <th>4</th>\n",
       "    </tr>\n",
       "  </thead>\n",
       "  <tbody>\n",
       "    <tr>\n",
       "      <th>ph</th>\n",
       "      <td>NaN</td>\n",
       "      <td>3.716080</td>\n",
       "      <td>8.099124</td>\n",
       "      <td>8.316766</td>\n",
       "      <td>9.092223</td>\n",
       "    </tr>\n",
       "    <tr>\n",
       "      <th>Hardness</th>\n",
       "      <td>204.890455</td>\n",
       "      <td>129.422921</td>\n",
       "      <td>224.236259</td>\n",
       "      <td>214.373394</td>\n",
       "      <td>181.101509</td>\n",
       "    </tr>\n",
       "    <tr>\n",
       "      <th>Solids</th>\n",
       "      <td>20791.318981</td>\n",
       "      <td>18630.057858</td>\n",
       "      <td>19909.541732</td>\n",
       "      <td>22018.417441</td>\n",
       "      <td>17978.986339</td>\n",
       "    </tr>\n",
       "    <tr>\n",
       "      <th>Chloramines</th>\n",
       "      <td>7.300212</td>\n",
       "      <td>6.635246</td>\n",
       "      <td>9.275884</td>\n",
       "      <td>8.059332</td>\n",
       "      <td>6.546600</td>\n",
       "    </tr>\n",
       "    <tr>\n",
       "      <th>Sulfate</th>\n",
       "      <td>368.516441</td>\n",
       "      <td>NaN</td>\n",
       "      <td>NaN</td>\n",
       "      <td>356.886136</td>\n",
       "      <td>310.135738</td>\n",
       "    </tr>\n",
       "    <tr>\n",
       "      <th>Conductivity</th>\n",
       "      <td>564.308654</td>\n",
       "      <td>592.885359</td>\n",
       "      <td>418.606213</td>\n",
       "      <td>363.266516</td>\n",
       "      <td>398.410813</td>\n",
       "    </tr>\n",
       "    <tr>\n",
       "      <th>Organic_carbon</th>\n",
       "      <td>10.379783</td>\n",
       "      <td>15.180013</td>\n",
       "      <td>16.868637</td>\n",
       "      <td>18.436524</td>\n",
       "      <td>11.558279</td>\n",
       "    </tr>\n",
       "    <tr>\n",
       "      <th>Trihalomethanes</th>\n",
       "      <td>86.990970</td>\n",
       "      <td>56.329076</td>\n",
       "      <td>66.420093</td>\n",
       "      <td>100.341674</td>\n",
       "      <td>31.997993</td>\n",
       "    </tr>\n",
       "    <tr>\n",
       "      <th>Turbidity</th>\n",
       "      <td>2.963135</td>\n",
       "      <td>4.500656</td>\n",
       "      <td>3.055934</td>\n",
       "      <td>4.628771</td>\n",
       "      <td>4.075075</td>\n",
       "    </tr>\n",
       "    <tr>\n",
       "      <th>Potability</th>\n",
       "      <td>0.000000</td>\n",
       "      <td>0.000000</td>\n",
       "      <td>0.000000</td>\n",
       "      <td>0.000000</td>\n",
       "      <td>0.000000</td>\n",
       "    </tr>\n",
       "  </tbody>\n",
       "</table>\n",
       "</div>"
      ],
      "text/plain": [
       "                            0             1             2             3  \\\n",
       "ph                        NaN      3.716080      8.099124      8.316766   \n",
       "Hardness           204.890455    129.422921    224.236259    214.373394   \n",
       "Solids           20791.318981  18630.057858  19909.541732  22018.417441   \n",
       "Chloramines          7.300212      6.635246      9.275884      8.059332   \n",
       "Sulfate            368.516441           NaN           NaN    356.886136   \n",
       "Conductivity       564.308654    592.885359    418.606213    363.266516   \n",
       "Organic_carbon      10.379783     15.180013     16.868637     18.436524   \n",
       "Trihalomethanes     86.990970     56.329076     66.420093    100.341674   \n",
       "Turbidity            2.963135      4.500656      3.055934      4.628771   \n",
       "Potability           0.000000      0.000000      0.000000      0.000000   \n",
       "\n",
       "                            4  \n",
       "ph                   9.092223  \n",
       "Hardness           181.101509  \n",
       "Solids           17978.986339  \n",
       "Chloramines          6.546600  \n",
       "Sulfate            310.135738  \n",
       "Conductivity       398.410813  \n",
       "Organic_carbon      11.558279  \n",
       "Trihalomethanes     31.997993  \n",
       "Turbidity            4.075075  \n",
       "Potability           0.000000  "
      ]
     },
     "execution_count": 63,
     "metadata": {},
     "output_type": "execute_result"
    }
   ],
   "source": [
    "water.head().T"
   ]
  },
  {
   "cell_type": "markdown",
   "metadata": {},
   "source": [
    "# 4 Pre-Processing and Training Data<a id='4_Pre-Processing_and_Training_Data'></a>"
   ]
  },
  {
   "cell_type": "markdown",
   "metadata": {},
   "source": [
    "## 4.1 Contents<a id='4.1_Contents'></a>\n",
    "* [4 Pre-Processing and Training Data](#4_Pre-Processing_and_Training_Data)\n",
    "  * [4.1 Contents](#4.1_Contents)\n",
    "  * [4.2 Introduction](#4.2_Introduction)\n",
    "  * [4.3 Imports](#4.3_Imports)\n",
    "  * [4.4 Load Data](#4.4_Load_Data)\n",
    "  * [4.5 Extract Big Mountain Data](#4.5_Extract_Big_Mountain_Data)\n",
    "  * [4.6 Train/Test Split](#4.6_Train/Test_Split)\n",
    "  * [4.7 Initial Not-Even-A-Model](#4.7_Initial_Not-Even-A-Model)\n",
    "    * [4.7.1 Metrics](#4.7.1_Metrics)\n",
    "      * [4.7.1.1 R-squared, or coefficient of determination](#4.7.1.1_R-squared,_or_coefficient_of_determination)\n",
    "      * [4.7.1.2 Mean Absolute Error](#4.7.1.2_Mean_Absolute_Error)\n",
    "      * [4.7.1.3 Mean Squared Error](#4.7.1.3_Mean_Squared_Error)\n",
    "    * [4.7.2 sklearn metrics](#4.7.2_sklearn_metrics)\n",
    "        * [4.7.2.0.1 R-squared](#4.7.2.0.1_R-squared)\n",
    "        * [4.7.2.0.2 Mean absolute error](#4.7.2.0.2_Mean_absolute_error)\n",
    "        * [4.7.2.0.3 Mean squared error](#4.7.2.0.3_Mean_squared_error)\n",
    "    * [4.7.3 Note On Calculating Metrics](#4.7.3_Note_On_Calculating_Metrics)\n",
    "  * [4.8 Initial Models](#4.8_Initial_Models)\n",
    "    * [4.8.1 Imputing missing feature (predictor) values](#4.8.1_Imputing_missing_feature_(predictor)_values)\n",
    "      * [4.8.1.1 Impute missing values with median](#4.8.1.1_Impute_missing_values_with_median)\n",
    "        * [4.8.1.1.1 Learn the values to impute from the train set](#4.8.1.1.1_Learn_the_values_to_impute_from_the_train_set)\n",
    "        * [4.8.1.1.2 Apply the imputation to both train and test splits](#4.8.1.1.2_Apply_the_imputation_to_both_train_and_test_splits)\n",
    "        * [4.8.1.1.3 Scale the data](#4.8.1.1.3_Scale_the_data)\n",
    "        * [4.8.1.1.4 Train the model on the train split](#4.8.1.1.4_Train_the_model_on_the_train_split)\n",
    "        * [4.8.1.1.5 Make predictions using the model on both train and test splits](#4.8.1.1.5_Make_predictions_using_the_model_on_both_train_and_test_splits)\n",
    "        * [4.8.1.1.6 Assess model performance](#4.8.1.1.6_Assess_model_performance)\n",
    "      * [4.8.1.2 Impute missing values with the mean](#4.8.1.2_Impute_missing_values_with_the_mean)\n",
    "        * [4.8.1.2.1 Learn the values to impute from the train set](#4.8.1.2.1_Learn_the_values_to_impute_from_the_train_set)\n",
    "        * [4.8.1.2.2 Apply the imputation to both train and test splits](#4.8.1.2.2_Apply_the_imputation_to_both_train_and_test_splits)\n",
    "        * [4.8.1.2.3 Scale the data](#4.8.1.2.3_Scale_the_data)\n",
    "        * [4.8.1.2.4 Train the model on the train split](#4.8.1.2.4_Train_the_model_on_the_train_split)\n",
    "        * [4.8.1.2.5 Make predictions using the model on both train and test splits](#4.8.1.2.5_Make_predictions_using_the_model_on_both_train_and_test_splits)\n",
    "        * [4.8.1.2.6 Assess model performance](#4.8.1.2.6_Assess_model_performance)\n",
    "    * [4.8.2 Pipelines](#4.8.2_Pipelines)\n",
    "      * [4.8.2.1 Define the pipeline](#4.8.2.1_Define_the_pipeline)\n",
    "      * [4.8.2.2 Fit the pipeline](#4.8.2.2_Fit_the_pipeline)\n",
    "      * [4.8.2.3 Make predictions on the train and test sets](#4.8.2.3_Make_predictions_on_the_train_and_test_sets)\n",
    "      * [4.8.2.4 Assess performance](#4.8.2.4_Assess_performance)\n",
    "  * [4.9 Refining The Linear Model](#4.9_Refining_The_Linear_Model)\n",
    "    * [4.9.1 Define the pipeline](#4.9.1_Define_the_pipeline)\n",
    "    * [4.9.2 Fit the pipeline](#4.9.2_Fit_the_pipeline)\n",
    "    * [4.9.3 Assess performance on the train and test set](#4.9.3_Assess_performance_on_the_train_and_test_set)\n",
    "    * [4.9.4 Define a new pipeline to select a different number of features](#4.9.4_Define_a_new_pipeline_to_select_a_different_number_of_features)\n",
    "    * [4.9.5 Fit the pipeline](#4.9.5_Fit_the_pipeline)\n",
    "    * [4.9.6 Assess performance on train and test data](#4.9.6_Assess_performance_on_train_and_test_data)\n",
    "    * [4.9.7 Assessing performance using cross-validation](#4.9.7_Assessing_performance_using_cross-validation)\n",
    "    * [4.9.8 Hyperparameter search using GridSearchCV](#4.9.8_Hyperparameter_search_using_GridSearchCV)\n",
    "  * [4.10 Random Forest Model](#4.10_Random_Forest_Model)\n",
    "    * [4.10.1 Define the pipeline](#4.10.1_Define_the_pipeline)\n",
    "    * [4.10.2 Fit and assess performance using cross-validation](#4.10.2_Fit_and_assess_performance_using_cross-validation)\n",
    "    * [4.10.3 Hyperparameter search using GridSearchCV](#4.10.3_Hyperparameter_search_using_GridSearchCV)\n",
    "  * [4.11 Final Model Selection](#4.11_Final_Model_Selection)\n",
    "    * [4.11.1 Linear regression model performance](#4.11.1_Linear_regression_model_performance)\n",
    "    * [4.11.2 Random forest regression model performance](#4.11.2_Random_forest_regression_model_performance)\n",
    "    * [4.11.3 Conclusion](#4.11.3_Conclusion)\n",
    "  * [4.12 Data quantity assessment](#4.12_Data_quantity_assessment)\n",
    "  * [4.13 Save best model object from pipeline](#4.13_Save_best_model_object_from_pipeline)\n",
    "  * [4.14 Summary](#4.14_Summary)\n"
   ]
  },
  {
   "cell_type": "markdown",
   "metadata": {},
   "source": [
    "## 4.2 Introduction<a id='4.2_Introduction'></a>"
   ]
  },
  {
   "cell_type": "markdown",
   "metadata": {},
   "source": [
    "\n",
    "In preceding notebooks, performed preliminary assessments of data quality and refined the question to be answered. You found a small number of data values that gave clear choices about whether to replace values or drop a whole row. You determined that predicting the adult weekend ticket price was your primary aim. You threw away records with missing price data, but not before making the most of the other available data to look for any patterns between the states. You didn't see any and decided to treat all states equally; the state label didn't seem to be particularly useful.\n",
    "\n",
    "In this notebook you'll start to build machine learning models. Before even starting with learning a machine learning model, however, start by considering how useful the mean value is as a predictor. This is more than just a pedagogical device. You never want to go to stakeholders with a machine learning model only to have the CEO point out that it performs worse than just guessing the average! Your first model is a baseline performance comparitor for any subsequent model. You then build up the process of efficiently and robustly creating and assessing models against it. The development we lay out may be little slower than in the real world, but this step of the capstone is definitely more than just instructional. It is good practice to build up an understanding that the machine learning pipelines you build work as expected. You can validate steps with your own functions for checking expected equivalence between, say, pandas and sklearn implementations."
   ]
  },
  {
   "cell_type": "markdown",
   "metadata": {},
   "source": [
    "## 4.6 Train/Test Split<a id='4.6_Train/Test_Split'></a>"
   ]
  },
  {
   "cell_type": "markdown",
   "metadata": {},
   "source": [
    "So far, you've treated ski resort data as a single entity. In machine learning, when you train your model on all of your data, you end up with no data set aside to evaluate model performance. You could keep making more and more complex models that fit the data better and better and not realise you were overfitting to that one set of samples. By partitioning the data into training and testing splits, without letting a model (or missing-value imputation) learn anything about the test split, you have a somewhat independent assessment of how your model might perform in the future. An often overlooked subtlety here is that people all too frequently use the test set to assess model performance _and then compare multiple models to pick the best_. This means their overall model selection process is  fitting to one specific data set, now the test split. You could keep going, trying to get better and better performance on that one data set, but that's  where cross-validation becomes especially useful. While training models, a test split is very useful as a final check on expected future performance."
   ]
  },
  {
   "cell_type": "markdown",
   "metadata": {},
   "source": [
    "What partition sizes would you have with a 70/30 train/test split?"
   ]
  },
  {
   "cell_type": "code",
   "execution_count": 64,
   "metadata": {},
   "outputs": [
    {
     "data": {
      "text/plain": [
       "(3276, 10)"
      ]
     },
     "execution_count": 64,
     "metadata": {},
     "output_type": "execute_result"
    }
   ],
   "source": [
    "water.shape"
   ]
  },
  {
   "cell_type": "code",
   "execution_count": 65,
   "metadata": {},
   "outputs": [],
   "source": [
    "# test drop missing\n",
    "water = water.dropna(how='any')"
   ]
  },
  {
   "cell_type": "code",
   "execution_count": 66,
   "metadata": {},
   "outputs": [
    {
     "data": {
      "text/plain": [
       "(2011, 10)"
      ]
     },
     "execution_count": 66,
     "metadata": {},
     "output_type": "execute_result"
    }
   ],
   "source": [
    "water.shape"
   ]
  },
  {
   "cell_type": "code",
   "execution_count": 67,
   "metadata": {},
   "outputs": [
    {
     "data": {
      "text/plain": [
       "(1407.6999999999998, 603.3)"
      ]
     },
     "execution_count": 67,
     "metadata": {},
     "output_type": "execute_result"
    }
   ],
   "source": [
    "len(water) * .7, len(water) * .3"
   ]
  },
  {
   "cell_type": "code",
   "execution_count": 68,
   "metadata": {},
   "outputs": [],
   "source": [
    "# train_test_split?"
   ]
  },
  {
   "cell_type": "code",
   "execution_count": 69,
   "metadata": {},
   "outputs": [],
   "source": [
    "X_train, X_test, y_train, y_test = train_test_split(water.drop(columns='Potability'), \n",
    "                                                    water.Potability, test_size=0.3, \n",
    "                                                    random_state=47)"
   ]
  },
  {
   "cell_type": "code",
   "execution_count": 70,
   "metadata": {},
   "outputs": [
    {
     "data": {
      "text/plain": [
       "((1407, 9), (604, 9))"
      ]
     },
     "execution_count": 70,
     "metadata": {},
     "output_type": "execute_result"
    }
   ],
   "source": [
    "X_train.shape, X_test.shape"
   ]
  },
  {
   "cell_type": "code",
   "execution_count": 71,
   "metadata": {},
   "outputs": [
    {
     "data": {
      "text/plain": [
       "((1407,), (604,))"
      ]
     },
     "execution_count": 71,
     "metadata": {},
     "output_type": "execute_result"
    }
   ],
   "source": [
    "y_train.shape, y_test.shape"
   ]
  },
  {
   "cell_type": "code",
   "execution_count": 72,
   "metadata": {},
   "outputs": [],
   "source": [
    "#Code task 1#\n",
    "#Save the 'Name', 'state', and 'Region' columns from the train/test data into names_train and names_test\n",
    "#Then drop those columns from `X_train` and `X_test`. Use 'inplace=True'\n",
    "# names_list = ['Name', 'state', 'Region']\n",
    "# names_train = X_train[names_list]\n",
    "# names_test = X_test[names_list]\n",
    "# X_train.drop(columns=names_list, inplace=True)\n",
    "# X_test.drop(columns=names_list, inplace=True)\n",
    "# X_train.shape, X_test.shape"
   ]
  },
  {
   "cell_type": "code",
   "execution_count": 73,
   "metadata": {},
   "outputs": [
    {
     "data": {
      "text/plain": [
       "ph                 float64\n",
       "Hardness           float64\n",
       "Solids             float64\n",
       "Chloramines        float64\n",
       "Sulfate            float64\n",
       "Conductivity       float64\n",
       "Organic_carbon     float64\n",
       "Trihalomethanes    float64\n",
       "Turbidity          float64\n",
       "dtype: object"
      ]
     },
     "execution_count": 73,
     "metadata": {},
     "output_type": "execute_result"
    }
   ],
   "source": [
    "#Code task 2#\n",
    "#Check the `dtypes` attribute of `X_train` to verify all features are numeric\n",
    "X_train.dtypes"
   ]
  },
  {
   "cell_type": "code",
   "execution_count": 74,
   "metadata": {},
   "outputs": [
    {
     "data": {
      "text/plain": [
       "ph                 float64\n",
       "Hardness           float64\n",
       "Solids             float64\n",
       "Chloramines        float64\n",
       "Sulfate            float64\n",
       "Conductivity       float64\n",
       "Organic_carbon     float64\n",
       "Trihalomethanes    float64\n",
       "Turbidity          float64\n",
       "dtype: object"
      ]
     },
     "execution_count": 74,
     "metadata": {},
     "output_type": "execute_result"
    }
   ],
   "source": [
    "#Code task 3#\n",
    "#Repeat this check for the test split in `X_test`\n",
    "X_test.dtypes"
   ]
  },
  {
   "cell_type": "markdown",
   "metadata": {},
   "source": [
    "You have only numeric features in your X now!"
   ]
  },
  {
   "cell_type": "markdown",
   "metadata": {},
   "source": [
    "## 4.7 Initial Not-Even-A-Model<a id='4.7_Initial_Not-Even-A-Model'></a>"
   ]
  },
  {
   "cell_type": "markdown",
   "metadata": {},
   "source": [
    "A good place to start is to see how good the mean is as a predictor. In other words, what if you simply say your best guess is the average price?"
   ]
  },
  {
   "cell_type": "code",
   "execution_count": 75,
   "metadata": {},
   "outputs": [
    {
     "data": {
      "text/plain": [
       "0.4186211798152097"
      ]
     },
     "execution_count": 75,
     "metadata": {},
     "output_type": "execute_result"
    }
   ],
   "source": [
    "#Code task 4#\n",
    "#Calculate the mean of `y_train`\n",
    "train_mean = y_train.mean()\n",
    "train_mean"
   ]
  },
  {
   "cell_type": "markdown",
   "metadata": {},
   "source": [
    "`sklearn`'s `DummyRegressor` easily does this:"
   ]
  },
  {
   "cell_type": "code",
   "execution_count": 76,
   "metadata": {},
   "outputs": [
    {
     "data": {
      "text/plain": [
       "array([[0.41862118]])"
      ]
     },
     "execution_count": 76,
     "metadata": {},
     "output_type": "execute_result"
    }
   ],
   "source": [
    "#Code task 5#\n",
    "#Fit the dummy regressor on the training data\n",
    "#Hint, call its `.fit()` method with `X_train` and `y_train` as arguments\n",
    "#Then print the object's `constant_` attribute and verify it's the same as the mean above\n",
    "dumb_reg = DummyRegressor(strategy='mean')\n",
    "dumb_reg.fit(X_train, y_train)\n",
    "dumb_reg.constant_"
   ]
  },
  {
   "cell_type": "markdown",
   "metadata": {},
   "source": [
    "How good is this? How closely does this match, or explain, the actual values? There are many ways of assessing how good one set of values agrees with another, which brings us to the subject of metrics."
   ]
  },
  {
   "cell_type": "markdown",
   "metadata": {},
   "source": [
    "## 4.8 Initial Models<a id='4.8_Initial_Models'></a>"
   ]
  },
  {
   "cell_type": "markdown",
   "metadata": {},
   "source": [
    "### 4.8.1 Imputing missing feature (predictor) values"
   ]
  },
  {
   "cell_type": "markdown",
   "metadata": {},
   "source": [
    "Recall when performing EDA, you imputed (filled in) some missing values in pandas. You did this judiciously for exploratory/visualization purposes. You left many missing values in the data. You can impute missing values using scikit-learn, but note that you should learn values to impute from a train split and apply that to the test split to then assess how well your imputation worked."
   ]
  },
  {
   "cell_type": "markdown",
   "metadata": {},
   "source": [
    "#### 4.8.1.1 Impute missing values with median"
   ]
  },
  {
   "cell_type": "markdown",
   "metadata": {},
   "source": [
    "There's missing values. Recall from your data exploration that many distributions were skewed. Your first thought might be to impute missing values using the median."
   ]
  },
  {
   "cell_type": "markdown",
   "metadata": {},
   "source": [
    "##### 4.8.1.1.1 Learn the values to impute from the train set"
   ]
  },
  {
   "cell_type": "code",
   "execution_count": 77,
   "metadata": {},
   "outputs": [
    {
     "data": {
      "text/plain": [
       "ph                     7.046549\n",
       "Hardness             196.658947\n",
       "Solids             20561.694731\n",
       "Chloramines            7.154891\n",
       "Sulfate              333.073546\n",
       "Conductivity         423.455906\n",
       "Organic_carbon        14.319411\n",
       "Trihalomethanes       66.543935\n",
       "Turbidity              3.986781\n",
       "dtype: float64"
      ]
     },
     "execution_count": 77,
     "metadata": {},
     "output_type": "execute_result"
    }
   ],
   "source": [
    "# These are the values we'll use to fill in any missing values\n",
    "X_defaults_median = X_train.median()\n",
    "X_defaults_median"
   ]
  },
  {
   "cell_type": "markdown",
   "metadata": {},
   "source": [
    "##### 4.8.1.1.2 Apply the imputation to both train and test splits<a id='4.8.1.1.2_Apply_the_imputation_to_both_train_and_test_splits'></a>"
   ]
  },
  {
   "cell_type": "code",
   "execution_count": 78,
   "metadata": {},
   "outputs": [],
   "source": [
    "#Code task 9#\n",
    "#Call `X_train` and `X_test`'s `fillna()` method, passing `X_defaults_median` as the values to use\n",
    "#Assign the results to `X_tr` and `X_te`, respectively\n",
    "X_tr = X_train.fillna(X_defaults_median)\n",
    "X_te = X_test.fillna(X_defaults_median)"
   ]
  },
  {
   "cell_type": "markdown",
   "metadata": {},
   "source": [
    "##### 4.8.1.1.3 Scale the data<a id='4.8.1.1.3_Scale_the_data'></a>"
   ]
  },
  {
   "cell_type": "markdown",
   "metadata": {},
   "source": [
    "As you have features measured in many different units, with numbers that vary by orders of magnitude, start off by scaling them to put them all on a consistent scale. The [StandardScaler](https://scikit-learn.org/stable/modules/generated/sklearn.preprocessing.StandardScaler.html) scales each feature to zero mean and unit variance."
   ]
  },
  {
   "cell_type": "code",
   "execution_count": 79,
   "metadata": {},
   "outputs": [],
   "source": [
    "#Code task 10#\n",
    "#Call the StandardScaler`s fit method on `X_tr` to fit the scaler\n",
    "#then use it's `transform()` method to apply the scaling to both the train and test split\n",
    "#data (`X_tr` and `X_te`), naming the results `X_tr_scaled` and `X_te_scaled`, respectively\n",
    "scaler = StandardScaler()\n",
    "scaler.fit(X_tr)\n",
    "X_tr_scaled = scaler.transform(X_tr)\n",
    "X_te_scaled = scaler.transform(X_te)"
   ]
  },
  {
   "cell_type": "markdown",
   "metadata": {},
   "source": [
    "## Classification models"
   ]
  },
  {
   "cell_type": "code",
   "execution_count": 80,
   "metadata": {
    "scrolled": true
   },
   "outputs": [],
   "source": [
    "# https://www.kaggle.com/sohommajumder21/7-models-with-params-tuning-beginner-friendly/notebook\n",
    "#Hyperparameter tuning ;)\n",
    "\n",
    "\n",
    "lr = LogisticRegression(random_state=42)\n",
    "\n",
    "knn = KNeighborsClassifier()\n",
    "\n",
    "dt = DecisionTreeClassifier()\n",
    "\n",
    "rf = RandomForestClassifier()\n",
    "\n",
    "ada = AdaBoostClassifier()\n",
    "\n",
    "xgb = XGBClassifier(eval_metric = 'logloss', use_label_encoder=False)\n",
    "\n",
    "\n",
    "para_knn = {'n_neighbors':np.arange(1, 50)}  #parameters of knn\n",
    "grid_knn = GridSearchCV(knn, param_grid=para_knn, cv=5) #search knn for 5 fold cross validation\n",
    "\n",
    "#parameters for decision tree\n",
    "para_dt = {'criterion':['gini','entropy'],'max_depth':np.arange(1, 50), 'min_samples_leaf':[1,2,4,5,10,20,30,40,80,100]}\n",
    "grid_dt = GridSearchCV(dt, param_grid=para_dt, cv=5) #grid search decision tree for 5 fold cv\n",
    "#\"gini\" for the Gini impurity and “entropy” for the information gain.\n",
    "#min_samples_leaf: The minimum number of samples required to be at a leaf node, have the effect of smoothing the model\n",
    "\n",
    "#parameters for random forest\n",
    "#n_estimators: The number of trees in the forest.\n",
    "params_rf = {'n_estimators':[100,200, 350, 500], 'min_samples_leaf':[2, 10, 30]}\n",
    "grid_rf = GridSearchCV(rf, param_grid=params_rf, cv=5)\n",
    "\n",
    "#parameters fpr AdaBoost\n",
    "params_ada = {'n_estimators': [50,100,250,400,500,600], 'learning_rate': [0.2,0.5,0.8,1]}\n",
    "grid_ada = GridSearchCV(ada, param_grid=params_ada, cv=5)\n",
    "\n",
    "#XGBoost\n",
    "#parameters for xgboost\n",
    "params_xgb = {'n_estimators': [50,100,250,400,600,800,1000], 'learning_rate': [0.2,0.5,0.8,1]}\n",
    "rs_xgb = RandomizedSearchCV(xgb, param_distributions=params_xgb, cv=5)"
   ]
  },
  {
   "cell_type": "code",
   "execution_count": 81,
   "metadata": {},
   "outputs": [
    {
     "name": "stdout",
     "output_type": "stream",
     "text": [
      "Best parameters for KNN: {'n_neighbors': 40}\n",
      "Best parameters for Decision Tree: {'criterion': 'entropy', 'max_depth': 6, 'min_samples_leaf': 40}\n",
      "Best parameters for Random Forest: {'min_samples_leaf': 2, 'n_estimators': 350}\n",
      "Best parameters for AdaBoost: {'learning_rate': 0.2, 'n_estimators': 100}\n",
      "Best parameters for XGBoost: {'n_estimators': 600, 'learning_rate': 0.2}\n"
     ]
    },
    {
     "data": {
      "text/plain": [
       "BaggingClassifier(base_estimator=DecisionTreeClassifier(criterion='entropy',\n",
       "                                                        max_depth=46,\n",
       "                                                        min_samples_leaf=2,\n",
       "                                                        random_state=42),\n",
       "                  n_estimators=100, random_state=42)"
      ]
     },
     "execution_count": 81,
     "metadata": {},
     "output_type": "execute_result"
    }
   ],
   "source": [
    "grid_knn.fit(X_train, y_train)\n",
    "grid_dt.fit(X_train, y_train)\n",
    "grid_rf.fit(X_train, y_train)\n",
    "grid_ada.fit(X_train, y_train)\n",
    "rs_xgb.fit(X_train, y_train)\n",
    "\n",
    "print(\"Best parameters for KNN:\", grid_knn.best_params_)\n",
    "print(\"Best parameters for Decision Tree:\", grid_dt.best_params_)\n",
    "print(\"Best parameters for Random Forest:\", grid_rf.best_params_)\n",
    "print(\"Best parameters for AdaBoost:\", grid_ada.best_params_)\n",
    "print(\"Best parameters for XGBoost:\", rs_xgb.best_params_)\n",
    "\n",
    "lr = LogisticRegression(random_state=42)\n",
    "dt = DecisionTreeClassifier(criterion='entropy', max_depth=42, min_samples_leaf=1, random_state=42)\n",
    "knn = KNeighborsClassifier(n_neighbors=1)\n",
    "rf = RandomForestClassifier(n_estimators=100, min_samples_leaf=2, random_state=42)\n",
    "ada = AdaBoostClassifier(n_estimators= 600, learning_rate= 1 )\n",
    "xgb = XGBClassifier(n_estimators= 250, learning_rate= 0.8)\n",
    "\n",
    "#let's also apply bagging and boosting\n",
    "bagging = BaggingClassifier(DecisionTreeClassifier(criterion='entropy', max_depth=46, min_samples_leaf=2, random_state=42),\n",
    "                           n_estimators = 100, random_state = 42)\n",
    "bagging.fit(X_train, y_train)"
   ]
  },
  {
   "cell_type": "code",
   "execution_count": 82,
   "metadata": {},
   "outputs": [
    {
     "name": "stdout",
     "output_type": "stream",
     "text": [
      "Logistic Regression : 0.63\n",
      "K Nearest Neighbours : 0.56\n",
      "Decision Tree : 0.59\n",
      "Random Forest : 0.69\n",
      "AdaBoost : 0.57\n",
      "Bagging Classifier : 0.70\n",
      "[13:26:15] WARNING: C:/Users/Administrator/workspace/xgboost-win64_release_1.4.0/src/learner.cc:1095: Starting in XGBoost 1.3.0, the default evaluation metric used with the objective 'binary:logistic' was changed from 'error' to 'logloss'. Explicitly set eval_metric if you'd like to restore the old behavior.\n"
     ]
    },
    {
     "name": "stderr",
     "output_type": "stream",
     "text": [
      "C:\\Users\\map_f\\anaconda3\\lib\\site-packages\\xgboost\\sklearn.py:1146: UserWarning: The use of label encoder in XGBClassifier is deprecated and will be removed in a future release. To remove this warning, do the following: 1) Pass option use_label_encoder=False when constructing XGBClassifier object; and 2) Encode your labels (y) as integers starting with 0, i.e. 0, 1, 2, ..., [num_class - 1].\n",
      "  warnings.warn(label_encoder_deprecation_msg, UserWarning)\n"
     ]
    },
    {
     "name": "stdout",
     "output_type": "stream",
     "text": [
      "XGBoost : 0.64\n"
     ]
    }
   ],
   "source": [
    "classifiers = [('Logistic Regression', lr), ('K Nearest Neighbours', knn),\n",
    "               ('Decision Tree', dt), ('Random Forest', rf), ('AdaBoost', ada),\n",
    "              ('Bagging Classifier', bagging), ('XGBoost', xgb)]\n",
    "\n",
    "for classifier_name, classifier in classifiers:\n",
    " \n",
    "    # Fit clf to the training set\n",
    "    classifier.fit(X_train, y_train)    \n",
    "   \n",
    "    # Predict y_pred\n",
    "    y_pred = classifier.predict(X_test)\n",
    "    accuracy = accuracy_score(y_test,y_pred)\n",
    "    \n",
    "\n",
    "   \n",
    "    # Evaluate clf's accuracy on the test set\n",
    "    print('{:s} : {:.2f}'.format(classifier_name, accuracy))"
   ]
  },
  {
   "cell_type": "code",
   "execution_count": 83,
   "metadata": {},
   "outputs": [
    {
     "name": "stdout",
     "output_type": "stream",
     "text": [
      "              precision    recall  f1-score   support\n",
      "\n",
      "           0       0.72      0.83      0.77       382\n",
      "           1       0.60      0.44      0.51       222\n",
      "\n",
      "    accuracy                           0.69       604\n",
      "   macro avg       0.66      0.64      0.64       604\n",
      "weighted avg       0.68      0.69      0.68       604\n",
      "\n"
     ]
    }
   ],
   "source": [
    "y_pred_rf= rf.predict(X_test)\n",
    "print(classification_report(y_test, y_pred_rf))"
   ]
  },
  {
   "cell_type": "code",
   "execution_count": 84,
   "metadata": {},
   "outputs": [
    {
     "name": "stdout",
     "output_type": "stream",
     "text": [
      "Best parameters for KNN: {'n_neighbors': 40}\n",
      "Best parameters for Decision Tree: {'criterion': 'entropy', 'max_depth': 6, 'min_samples_leaf': 40}\n",
      "Best parameters for Random Forest: {'min_samples_leaf': 2, 'n_estimators': 200}\n",
      "Best parameters for AdaBoost: {'learning_rate': 0.2, 'n_estimators': 100}\n",
      "Best parameters for XGBoost: {'n_estimators': 400, 'learning_rate': 0.2}\n"
     ]
    },
    {
     "data": {
      "text/plain": [
       "BaggingClassifier(base_estimator=DecisionTreeClassifier(criterion='entropy',\n",
       "                                                        max_depth=46,\n",
       "                                                        min_samples_leaf=2,\n",
       "                                                        random_state=42),\n",
       "                  n_estimators=100, random_state=42)"
      ]
     },
     "execution_count": 84,
     "metadata": {},
     "output_type": "execute_result"
    }
   ],
   "source": [
    "grid_knn.fit(X_tr, y_train)\n",
    "grid_dt.fit(X_tr, y_train)\n",
    "grid_rf.fit(X_tr, y_train)\n",
    "grid_ada.fit(X_tr, y_train)\n",
    "rs_xgb.fit(X_tr, y_train)\n",
    "\n",
    "print(\"Best parameters for KNN:\", grid_knn.best_params_)\n",
    "print(\"Best parameters for Decision Tree:\", grid_dt.best_params_)\n",
    "print(\"Best parameters for Random Forest:\", grid_rf.best_params_)\n",
    "print(\"Best parameters for AdaBoost:\", grid_ada.best_params_)\n",
    "print(\"Best parameters for XGBoost:\", rs_xgb.best_params_)\n",
    "\n",
    "lr = LogisticRegression(random_state=42)\n",
    "dt = DecisionTreeClassifier(criterion='entropy', max_depth=42, min_samples_leaf=1, random_state=42)\n",
    "knn = KNeighborsClassifier(n_neighbors=1)\n",
    "rf = RandomForestClassifier(n_estimators=100, min_samples_leaf=2, random_state=42)\n",
    "ada = AdaBoostClassifier(n_estimators= 600, learning_rate= 1 )\n",
    "xgb = XGBClassifier(n_estimators= 250, learning_rate= 0.8)\n",
    "\n",
    "#let's also apply bagging and boosting\n",
    "bagging = BaggingClassifier(DecisionTreeClassifier(criterion='entropy', max_depth=46, min_samples_leaf=2, random_state=42),\n",
    "                           n_estimators = 100, random_state = 42)\n",
    "bagging.fit(X_tr, y_train)"
   ]
  },
  {
   "cell_type": "code",
   "execution_count": 85,
   "metadata": {},
   "outputs": [
    {
     "name": "stdout",
     "output_type": "stream",
     "text": [
      "Logistic Regression : 0.63\n",
      "K Nearest Neighbours : 0.56\n",
      "Decision Tree : 0.59\n",
      "Random Forest : 0.69\n",
      "AdaBoost : 0.57\n",
      "Bagging Classifier : 0.70\n",
      "[13:30:07] WARNING: C:/Users/Administrator/workspace/xgboost-win64_release_1.4.0/src/learner.cc:1095: Starting in XGBoost 1.3.0, the default evaluation metric used with the objective 'binary:logistic' was changed from 'error' to 'logloss'. Explicitly set eval_metric if you'd like to restore the old behavior.\n"
     ]
    },
    {
     "name": "stderr",
     "output_type": "stream",
     "text": [
      "C:\\Users\\map_f\\anaconda3\\lib\\site-packages\\xgboost\\sklearn.py:1146: UserWarning: The use of label encoder in XGBClassifier is deprecated and will be removed in a future release. To remove this warning, do the following: 1) Pass option use_label_encoder=False when constructing XGBClassifier object; and 2) Encode your labels (y) as integers starting with 0, i.e. 0, 1, 2, ..., [num_class - 1].\n",
      "  warnings.warn(label_encoder_deprecation_msg, UserWarning)\n"
     ]
    },
    {
     "name": "stdout",
     "output_type": "stream",
     "text": [
      "XGBoost : 0.64\n"
     ]
    }
   ],
   "source": [
    "classifiers = [('Logistic Regression', lr), ('K Nearest Neighbours', knn),\n",
    "               ('Decision Tree', dt), ('Random Forest', rf), ('AdaBoost', ada),\n",
    "              ('Bagging Classifier', bagging), ('XGBoost', xgb)]\n",
    "\n",
    "for classifier_name, classifier in classifiers:\n",
    " \n",
    "    # Fit clf to the training set\n",
    "    classifier.fit(X_tr, y_train)    \n",
    "   \n",
    "    # Predict y_pred\n",
    "    y_pred = classifier.predict(X_te)\n",
    "    accuracy = accuracy_score(y_test,y_pred)\n",
    "    \n",
    "\n",
    "   \n",
    "    # Evaluate clf's accuracy on the test set\n",
    "    print('{:s} : {:.2f}'.format(classifier_name, accuracy))"
   ]
  },
  {
   "cell_type": "code",
   "execution_count": 86,
   "metadata": {},
   "outputs": [
    {
     "name": "stdout",
     "output_type": "stream",
     "text": [
      "              precision    recall  f1-score   support\n",
      "\n",
      "           0       0.72      0.83      0.77       382\n",
      "           1       0.60      0.44      0.51       222\n",
      "\n",
      "    accuracy                           0.69       604\n",
      "   macro avg       0.66      0.64      0.64       604\n",
      "weighted avg       0.68      0.69      0.68       604\n",
      "\n"
     ]
    }
   ],
   "source": [
    "y_pred_rf= rf.predict(X_te)\n",
    "print(classification_report(y_test, y_pred_rf))"
   ]
  },
  {
   "cell_type": "code",
   "execution_count": 87,
   "metadata": {},
   "outputs": [
    {
     "name": "stdout",
     "output_type": "stream",
     "text": [
      "Best parameters for KNN: {'n_neighbors': 35}\n",
      "Best parameters for Decision Tree: {'criterion': 'entropy', 'max_depth': 6, 'min_samples_leaf': 40}\n",
      "Best parameters for Random Forest: {'min_samples_leaf': 2, 'n_estimators': 100}\n",
      "Best parameters for AdaBoost: {'learning_rate': 0.2, 'n_estimators': 100}\n",
      "Best parameters for XGBoost: {'n_estimators': 400, 'learning_rate': 0.5}\n"
     ]
    },
    {
     "data": {
      "text/plain": [
       "BaggingClassifier(base_estimator=DecisionTreeClassifier(criterion='entropy',\n",
       "                                                        max_depth=46,\n",
       "                                                        min_samples_leaf=2,\n",
       "                                                        random_state=42),\n",
       "                  n_estimators=100, random_state=42)"
      ]
     },
     "execution_count": 87,
     "metadata": {},
     "output_type": "execute_result"
    }
   ],
   "source": [
    "grid_knn.fit(X_tr_scaled, y_train)\n",
    "grid_dt.fit(X_tr_scaled, y_train)\n",
    "grid_rf.fit(X_tr_scaled, y_train)\n",
    "grid_ada.fit(X_tr_scaled, y_train)\n",
    "rs_xgb.fit(X_tr_scaled, y_train)\n",
    "\n",
    "print(\"Best parameters for KNN:\", grid_knn.best_params_)\n",
    "print(\"Best parameters for Decision Tree:\", grid_dt.best_params_)\n",
    "print(\"Best parameters for Random Forest:\", grid_rf.best_params_)\n",
    "print(\"Best parameters for AdaBoost:\", grid_ada.best_params_)\n",
    "print(\"Best parameters for XGBoost:\", rs_xgb.best_params_)\n",
    "\n",
    "lr = LogisticRegression(random_state=42)\n",
    "dt = DecisionTreeClassifier(criterion='entropy', max_depth=42, min_samples_leaf=1, random_state=42)\n",
    "knn = KNeighborsClassifier(n_neighbors=1)\n",
    "rf = RandomForestClassifier(n_estimators=100, min_samples_leaf=2, random_state=42)\n",
    "ada = AdaBoostClassifier(n_estimators= 600, learning_rate= 1 )\n",
    "xgb = XGBClassifier(n_estimators= 250, learning_rate= 0.8)\n",
    "\n",
    "#let's also apply bagging and boosting\n",
    "bagging = BaggingClassifier(DecisionTreeClassifier(criterion='entropy', max_depth=46, min_samples_leaf=2, random_state=42),\n",
    "                           n_estimators = 100, random_state = 42)\n",
    "bagging.fit(X_tr_scaled, y_train)"
   ]
  },
  {
   "cell_type": "code",
   "execution_count": 88,
   "metadata": {},
   "outputs": [
    {
     "name": "stdout",
     "output_type": "stream",
     "text": [
      "Logistic Regression : 0.63\n",
      "K Nearest Neighbours : 0.58\n",
      "Decision Tree : 0.59\n",
      "Random Forest : 0.69\n",
      "AdaBoost : 0.57\n",
      "Bagging Classifier : 0.70\n",
      "[13:34:11] WARNING: C:/Users/Administrator/workspace/xgboost-win64_release_1.4.0/src/learner.cc:1095: Starting in XGBoost 1.3.0, the default evaluation metric used with the objective 'binary:logistic' was changed from 'error' to 'logloss'. Explicitly set eval_metric if you'd like to restore the old behavior.\n"
     ]
    },
    {
     "name": "stderr",
     "output_type": "stream",
     "text": [
      "C:\\Users\\map_f\\anaconda3\\lib\\site-packages\\xgboost\\sklearn.py:1146: UserWarning: The use of label encoder in XGBClassifier is deprecated and will be removed in a future release. To remove this warning, do the following: 1) Pass option use_label_encoder=False when constructing XGBClassifier object; and 2) Encode your labels (y) as integers starting with 0, i.e. 0, 1, 2, ..., [num_class - 1].\n",
      "  warnings.warn(label_encoder_deprecation_msg, UserWarning)\n"
     ]
    },
    {
     "name": "stdout",
     "output_type": "stream",
     "text": [
      "XGBoost : 0.64\n"
     ]
    }
   ],
   "source": [
    "classifiers = [('Logistic Regression', lr), ('K Nearest Neighbours', knn),\n",
    "               ('Decision Tree', dt), ('Random Forest', rf), ('AdaBoost', ada),\n",
    "              ('Bagging Classifier', bagging), ('XGBoost', xgb)]\n",
    "\n",
    "for classifier_name, classifier in classifiers:\n",
    " \n",
    "    # Fit clf to the training set\n",
    "    classifier.fit(X_tr_scaled, y_train)    \n",
    "   \n",
    "    # Predict y_pred\n",
    "    y_pred = classifier.predict(X_te_scaled)\n",
    "    accuracy = accuracy_score(y_test,y_pred)\n",
    "    \n",
    "\n",
    "   \n",
    "    # Evaluate clf's accuracy on the test set\n",
    "    print('{:s} : {:.2f}'.format(classifier_name, accuracy))"
   ]
  },
  {
   "cell_type": "markdown",
   "metadata": {},
   "source": [
    "#### 4.8.1.2 Impute missing values with the mean<a id='4.8.1.2_Impute_missing_values_with_the_mean'></a>"
   ]
  }
 ],
 "metadata": {
  "kernelspec": {
   "display_name": "Python 3",
   "language": "python",
   "name": "python3"
  },
  "language_info": {
   "codemirror_mode": {
    "name": "ipython",
    "version": 3
   },
   "file_extension": ".py",
   "mimetype": "text/x-python",
   "name": "python",
   "nbconvert_exporter": "python",
   "pygments_lexer": "ipython3",
   "version": "3.8.5"
  },
  "toc": {
   "base_numbering": 1,
   "nav_menu": {},
   "number_sections": true,
   "sideBar": true,
   "skip_h1_title": false,
   "title_cell": "Table of Contents",
   "title_sidebar": "Contents",
   "toc_cell": false,
   "toc_position": {},
   "toc_section_display": true,
   "toc_window_display": true
  },
  "varInspector": {
   "cols": {
    "lenName": 16,
    "lenType": 16,
    "lenVar": 40
   },
   "kernels_config": {
    "python": {
     "delete_cmd_postfix": "",
     "delete_cmd_prefix": "del ",
     "library": "var_list.py",
     "varRefreshCmd": "print(var_dic_list())"
    },
    "r": {
     "delete_cmd_postfix": ") ",
     "delete_cmd_prefix": "rm(",
     "library": "var_list.r",
     "varRefreshCmd": "cat(var_dic_list()) "
    }
   },
   "types_to_exclude": [
    "module",
    "function",
    "builtin_function_or_method",
    "instance",
    "_Feature"
   ],
   "window_display": false
  }
 },
 "nbformat": 4,
 "nbformat_minor": 4
}
